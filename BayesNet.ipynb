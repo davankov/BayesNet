{
 "cells": [
  {
   "cell_type": "code",
   "execution_count": 14,
   "metadata": {
    "collapsed": true
   },
   "outputs": [],
   "source": [
    "type Variable\n",
    "    name::AbstractString\n",
    "    domain::Array\n",
    "    evidence_index::Int32\n",
    "    assignment_index::Int32\n",
    "    \n",
    "    add_values::Function\n",
    "    value_index::Function\n",
    "    domain_size::Function\n",
    "    \n",
    "    function Variable(name=\"\", domain=[])\n",
    "        this = new()\n",
    "        \n",
    "        this.name = name\n",
    "        this.domain = copy(domain)\n",
    "        \n",
    "        this.evidence_index = 0\n",
    "        this.assignment_index = 0\n",
    "        \n",
    "        this.add_values = function(values::Array)\n",
    "            this.domain = vcat(this.domain, value)\n",
    "        end\n",
    "        \n",
    "        this.value_index = function(value::Any)\n",
    "            return findfirst(this.domain, value)\n",
    "        end\n",
    "        \n",
    "        this.domain_size =  function()\n",
    "            return size(this.domain)[1]\n",
    "        end\n",
    "        return this\n",
    "    end\n",
    "    \n",
    "end"
   ]
  },
  {
   "cell_type": "code",
   "execution_count": 15,
   "metadata": {
    "collapsed": false
   },
   "outputs": [],
   "source": [
    "type Factor\n",
    "    name::AbstractString\n",
    "    scope::Array\n",
    "    size::Int64\n",
    "    values::Array\n",
    "    \n",
    "    get_scope::Function\n",
    "    add_scope::Function\n",
    "    add::Function\n",
    "    \n",
    "    function Factor(name=\"NEW\", scope=[])\n",
    "        this = new()\n",
    "        \n",
    "        this.name = name\n",
    "        this.scope = scope\n",
    "        \n",
    "        size = 1\n",
    "        for v in scope\n",
    "            size *= v.domain_size()\n",
    "        end\n",
    "        this.values = zeros(size)\n",
    "        \n",
    "        this.size = v\n",
    "        \n",
    "        this.get_scope = function ()\n",
    "            return this.scope\n",
    "        end\n",
    "        \n",
    "        this.add_scope = function (added::Array)\n",
    "            this.scope = vcat(this.scope, added)\n",
    "        end\n",
    "        \n",
    "#         this.add = function (value::Node)\n",
    "#             this.value = value\n",
    "#         end\n",
    "        this.add_values(value) =  function(values)\n",
    "            for val in values\n",
    "               idx = 0\n",
    "                for v in this.scope\n",
    "                   idx = idx * v.domain_size() + v.value_index() \n",
    "                end\n",
    "            end\n",
    "        end\n",
    "        return this\n",
    "    end\n",
    "end"
   ]
  },
  {
   "cell_type": "code",
   "execution_count": 12,
   "metadata": {
    "collapsed": true
   },
   "outputs": [],
   "source": [
    "workspace()"
   ]
  },
  {
   "cell_type": "code",
   "execution_count": 16,
   "metadata": {
    "collapsed": false
   },
   "outputs": [
    {
     "data": {
      "text/plain": [
       "Variable(\"R\",[0,1,2],0,0,(anonymous function),(anonymous function),(anonymous function))"
      ]
     },
     "execution_count": 16,
     "metadata": {},
     "output_type": "execute_result"
    }
   ],
   "source": [
    "variable = Variable(\"R\", [0, 1, 2])"
   ]
  },
  {
   "cell_type": "code",
   "execution_count": 17,
   "metadata": {
    "collapsed": false,
    "scrolled": true
   },
   "outputs": [
    {
     "data": {
      "text/plain": [
       "2-element Array{Variable,1}:\n",
       " Variable(\"R\",[0,1,2],0,0,(anonymous function),(anonymous function),(anonymous function))\n",
       " Variable(\"D\",[0,1],0,0,(anonymous function),(anonymous function),(anonymous function))  "
      ]
     },
     "execution_count": 17,
     "metadata": {},
     "output_type": "execute_result"
    }
   ],
   "source": [
    "variables = [variable, Variable(\"D\", [0, 1])]"
   ]
  },
  {
   "cell_type": "code",
   "execution_count": 8,
   "metadata": {
    "collapsed": false
   },
   "outputs": [
    {
     "data": {
      "text/plain": [
       "3"
      ]
     },
     "execution_count": 8,
     "metadata": {},
     "output_type": "execute_result"
    }
   ],
   "source": [
    "variable.domain_size()"
   ]
  },
  {
   "cell_type": "code",
   "execution_count": 24,
   "metadata": {
    "collapsed": false
   },
   "outputs": [
    {
     "data": {
      "text/plain": [
       "5-element Array{Int64,1}:\n",
       " 1\n",
       " 2\n",
       " 3\n",
       " 4\n",
       " 5"
      ]
     },
     "execution_count": 24,
     "metadata": {},
     "output_type": "execute_result"
    }
   ],
   "source": [
    "vec = [1,2,3,4,5]"
   ]
  },
  {
   "cell_type": "code",
   "execution_count": 39,
   "metadata": {
    "collapsed": false
   },
   "outputs": [
    {
     "ename": "LoadError",
     "evalue": "UndefVarError: .. not defined",
     "output_type": "error",
     "traceback": [
      "UndefVarError: .. not defined",
      ""
     ]
    }
   ],
   "source": [
    "vec[2,..,..]"
   ]
  },
  {
   "cell_type": "code",
   "execution_count": null,
   "metadata": {
    "collapsed": true
   },
   "outputs": [],
   "source": []
  }
 ],
 "metadata": {
  "kernelspec": {
   "display_name": "Julia 0.4.5",
   "language": "julia",
   "name": "julia-0.4"
  },
  "language_info": {
   "file_extension": ".jl",
   "mimetype": "application/julia",
   "name": "julia",
   "version": "0.4.5"
  }
 },
 "nbformat": 4,
 "nbformat_minor": 2
}
