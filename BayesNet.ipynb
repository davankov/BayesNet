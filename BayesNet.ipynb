{
 "cells": [
  {
   "cell_type": "code",
   "execution_count": 518,
   "metadata": {},
   "outputs": [],
   "source": [
    "type Variable\n",
    "    name::AbstractString\n",
    "    domain::Array\n",
    "    evidence_index::Int32\n",
    "    assignment_index::Int32\n",
    "    \n",
    "    add_values::Function\n",
    "    value_index::Function\n",
    "    domain_size::Function\n",
    "    set_assignment::Function\n",
    "    get_assignment_index::Function\n",
    "    get_evidence::Function\n",
    "    \n",
    "    function Variable(name=\"\", domain=[])\n",
    "        this = new()\n",
    "        \n",
    "        this.name = name\n",
    "        this.domain = copy(domain)\n",
    "        \n",
    "        this.evidence_index = 0\n",
    "        this.assignment_index = 0\n",
    "        \n",
    "#         Проверено\n",
    "        this.add_values = function(values::Array)\n",
    "            this.domain = vcat(this.domain, value)\n",
    "        end\n",
    "        \n",
    "#       Проверено\n",
    "        this.value_index = function(value::Any)\n",
    "            return findfirst(this.domain, value)\n",
    "        end\n",
    "        \n",
    "#         Проверено\n",
    "        this.domain_size =  function()\n",
    "            return size(this.domain)[1]\n",
    "        end\n",
    "        \n",
    "#         Проверено\n",
    "        this.set_assignment = function(value)\n",
    "            this.assignment_index = this.value_index(value)\n",
    "        end\n",
    "        \n",
    "#         Проверно\n",
    "        this.get_assignment_index = function()\n",
    "           return this.assignment_index \n",
    "        end\n",
    "        \n",
    "        \n",
    "        this.get_evidence = function()\n",
    "            return this.domain[this.evidence_index]\n",
    "        end\n",
    "        return this\n",
    "    end\n",
    "    \n",
    "end"
   ]
  },
  {
   "cell_type": "code",
   "execution_count": 517,
   "metadata": {},
   "outputs": [],
   "source": [
    "workspace()"
   ]
  },
  {
   "cell_type": "code",
   "execution_count": 519,
   "metadata": {},
   "outputs": [],
   "source": [
    "type Factor\n",
    "    name::AbstractString\n",
    "    scope::Array\n",
    "    size::Int64\n",
    "    values::Array\n",
    "    \n",
    "    get_value::Function\n",
    "    get_scope::Function\n",
    "    add_scope::Function\n",
    "    add_values::Function\n",
    "    add_value_at_current_assignment::Function\n",
    "    get_value_at_current_assignment::Function\n",
    "    \n",
    "    function Factor(name=\"NEW\", scope=[])\n",
    "        this = new()\n",
    "        \n",
    "        this.name = name\n",
    "        this.scope = scope\n",
    "        \n",
    "        size = 1\n",
    "        for v in scope\n",
    "            size *= v.domain_size()\n",
    "        end\n",
    "        this.values = zeros(size)\n",
    "        \n",
    "        this.size = size\n",
    "        \n",
    "#         Проверено\n",
    "        this.get_scope = function ()\n",
    "            return this.scope\n",
    "        end\n",
    "        \n",
    "        \n",
    "        this.add_scope = function (added::Array)\n",
    "            this.scope = vcat(this.scope, added)\n",
    "        end\n",
    "        \n",
    "#         this.add = function (value::Node)\n",
    "#             this.value = value\n",
    "#         end\n",
    "        \n",
    "        \n",
    "#        fixed bag with indexes\n",
    "        this.add_values =  function(values::Array)\n",
    "            for val in values\n",
    "               idx = 0\n",
    "                for v in this.scope\n",
    "                    idx = idx * v.domain_size() + v.value_index(val[1]) -1 \n",
    "                    print(idx)\n",
    "                    val = val[2:end]\n",
    "                end\n",
    "                idx += 1\n",
    "                this.values[idx] = val[1]\n",
    "            end\n",
    "        end\n",
    "        \n",
    "        this.get_value = function(variable_values)\n",
    "           idx = 0\n",
    "            print(this.scope)\n",
    "            for v in this.scope\n",
    "                idx = idx * v.domain_size() + v.value_index(variable_values[1]) - 1\n",
    "                variable_values = variable_values[2:end]\n",
    "            end\n",
    "            idx += 1\n",
    "            return this.values[idx]\n",
    "        end\n",
    "        \n",
    "#       As I checked - it is work\n",
    "        this.add_value_at_current_assignment = function(number)\n",
    "            idx = 0\n",
    "            \n",
    "            for v in this.scope\n",
    "               idx = idx * v.domain_size() + v.get_assignment_index() -1 \n",
    "            end\n",
    "            idx += 1\n",
    "            this.values[idx] =  number\n",
    "        end\n",
    "        \n",
    "        \n",
    "        this.get_value_at_current_assignment = function()\n",
    "            \n",
    "            idx = 0\n",
    "            \n",
    "            for v in this.scope\n",
    "               idx = idx * v.domain_size() + v.get_assignment_index() - 1\n",
    "            end\n",
    "            idx += 1\n",
    "            return this.values[idx]\n",
    "        end\n",
    "        \n",
    "        \n",
    "        return this\n",
    "    end\n",
    "end"
   ]
  },
  {
   "cell_type": "code",
   "execution_count": 520,
   "metadata": {},
   "outputs": [
    {
     "data": {
      "text/plain": [
       "restrict_factor (generic function with 1 method)"
      ]
     },
     "execution_count": 520,
     "metadata": {},
     "output_type": "execute_result"
    }
   ],
   "source": [
    "function restrict_factor(F, var, value)\n",
    "    newFactorName = F.name * \"_{R:}\" * var.name * \" = \" * string(value) * \"}\"\n",
    "    newFactorScope = copy(F.get_scope())\n",
    "    \n",
    "    var.set_assignment(value)\n",
    "    deleteat!(newFactorScope, findin(newFactorScope, [var]))\n",
    "    \n",
    "    newFactor = Factor(newFactorName, newFactorScope)\n",
    "    \n",
    "    rec_restrict_factor(F, newFactorScope, newFactor)\n",
    "    \n",
    "    return newFactor\n",
    "end"
   ]
  },
  {
   "cell_type": "code",
   "execution_count": 521,
   "metadata": {},
   "outputs": [
    {
     "data": {
      "text/plain": [
       "rec_restrict_factor (generic function with 1 method)"
      ]
     },
     "execution_count": 521,
     "metadata": {},
     "output_type": "execute_result"
    }
   ],
   "source": [
    "function rec_restrict_factor(oldFactor, newFactorScope, newFactor)\n",
    "    if isempty(newFactorScope)\n",
    "        old_assign = oldFactor.get_value_at_current_assignment()\n",
    "        newFactor.add_value_at_current_assignment(old_assign)\n",
    "    else\n",
    "        print(newFactorScope)\n",
    "        for var_val in newFactorScope[1].domain\n",
    "            newFactorScope[1].set_assignment(var_val)\n",
    "            rec_restrict_factor(oldFactor, newFactorScope[2:end], newFactor)\n",
    "        end\n",
    "    end\n",
    "end"
   ]
  },
  {
   "cell_type": "code",
   "execution_count": 524,
   "metadata": {},
   "outputs": [
    {
     "data": {
      "text/plain": [
       "step1 (generic function with 1 method)"
      ]
     },
     "execution_count": 524,
     "metadata": {},
     "output_type": "execute_result"
    }
   ],
   "source": [
    "function step1(NetFactors, EvidenceVars)\n",
    "    for i in range(1, size(NetFactors)[1])\n",
    "        for e_v in EvidenceVars\n",
    "            if e_v in NetFactors[i].get_scope()\n",
    "                newFactor = restrict_factor(NetFactors[i], e_v, e_v.get_evidence())\n",
    "                \n",
    "                NetFactors[i] = copy(newFactor)\n",
    "            end\n",
    "        end\n",
    "    end\n",
    "end"
   ]
  },
  {
   "cell_type": "code",
   "execution_count": 495,
   "metadata": {},
   "outputs": [
    {
     "data": {
      "text/plain": [
       "Variable(\"V\",[0,1],0,0,(anonymous function),(anonymous function),(anonymous function),(anonymous function),(anonymous function))"
      ]
     },
     "execution_count": 495,
     "metadata": {},
     "output_type": "execute_result"
    }
   ],
   "source": [
    "V = Variable(\"V\", [0,1 ])"
   ]
  },
  {
   "cell_type": "code",
   "execution_count": 496,
   "metadata": {},
   "outputs": [
    {
     "data": {
      "text/plain": [
       "Variable(\"S\",[0,1],0,0,(anonymous function),(anonymous function),(anonymous function),(anonymous function),(anonymous function))"
      ]
     },
     "execution_count": 496,
     "metadata": {},
     "output_type": "execute_result"
    }
   ],
   "source": [
    "G = Variable(\"G\", [0,1])\n",
    "R = Variable(\"R\", [0,1])\n",
    "S = Variable(\"S\", [0,1])"
   ]
  },
  {
   "cell_type": "code",
   "execution_count": 497,
   "metadata": {},
   "outputs": [
    {
     "data": {
      "text/plain": [
       "Factor(\"S\",[Variable(\"G\",[0,1],0,0,(anonymous function),(anonymous function),(anonymous function),(anonymous function),(anonymous function)),Variable(\"S\",[0,1],0,0,(anonymous function),(anonymous function),(anonymous function),(anonymous function),(anonymous function))],4,[0.0,0.0,0.0,0.0],(anonymous function),(anonymous function),(anonymous function),(anonymous function),(anonymous function),(anonymous function))"
      ]
     },
     "execution_count": 497,
     "metadata": {},
     "output_type": "execute_result"
    }
   ],
   "source": [
    "fac_V = Factor(\"V\", [V])\n",
    "fac_G = Factor(\"G\", [G])\n",
    "fac_R = Factor(\"R\", [V, G, R])\n",
    "fac_S = Factor(\"S\", [G, S])"
   ]
  },
  {
   "cell_type": "code",
   "execution_count": 498,
   "metadata": {},
   "outputs": [
    {
     "name": "stdout",
     "output_type": "stream",
     "text": [
      "010100000101201312412513613700011213"
     ]
    }
   ],
   "source": [
    "fac_V.add_values([(0, 0.33), (1, 0.66)])\n",
    "fac_G.add_values([(0, 0.25), (1, 0.75)])\n",
    "fac_R.add_values([(0, 0, 0, 0.6), (0, 0, 1, 0.4),\n",
    "        (0, 1, 0, 0.3), (0, 1, 1, 0.7),\n",
    "        (1,  0, 0, 0.2), (1, 0, 1, 0.8),\n",
    "        (1, 1, 0, 0.5), (1, 1, 1, 0.5)])\n",
    "fac_S.add_values([(0, 0, 0.2), (0, 1, 0.8),\n",
    "        (1, 0, 0.5), (1, 1, 0.5)])"
   ]
  },
  {
   "cell_type": "code",
   "execution_count": 499,
   "metadata": {
    "scrolled": true
   },
   "outputs": [
    {
     "data": {
      "text/plain": [
       "Factor(\"R\",[Variable(\"V\",[0,1],0,0,(anonymous function),(anonymous function),(anonymous function),(anonymous function),(anonymous function)),Variable(\"G\",[0,1],0,0,(anonymous function),(anonymous function),(anonymous function),(anonymous function),(anonymous function)),Variable(\"R\",[0,1],0,0,(anonymous function),(anonymous function),(anonymous function),(anonymous function),(anonymous function))],8,[0.6,0.4,0.3,0.7,0.2,0.8,0.5,0.5],(anonymous function),(anonymous function),(anonymous function),(anonymous function),(anonymous function),(anonymous function))"
      ]
     },
     "execution_count": 499,
     "metadata": {},
     "output_type": "execute_result"
    }
   ],
   "source": [
    "fac_R"
   ]
  },
  {
   "cell_type": "code",
   "execution_count": 500,
   "metadata": {},
   "outputs": [
    {
     "data": {
      "text/plain": [
       "0"
      ]
     },
     "execution_count": 500,
     "metadata": {},
     "output_type": "execute_result"
    }
   ],
   "source": [
    "V.assignment_index"
   ]
  },
  {
   "cell_type": "code",
   "execution_count": 509,
   "metadata": {
    "scrolled": false
   },
   "outputs": [
    {
     "name": "stdout",
     "output_type": "stream",
     "text": [
      "[Variable(\"G\",[0,1],0,2,(anonymous function),(anonymous function),(anonymous function),(anonymous function),(anonymous function)),Variable(\"R\",[0,1],0,2,(anonymous function),(anonymous function),(anonymous function),(anonymous function),(anonymous function))][Variable(\"R\",[0,1],0,2,(anonymous function),(anonymous function),(anonymous function),(anonymous function),(anonymous function))][Variable(\"R\",[0,1],0,2,(anonymous function),(anonymous function),(anonymous function),(anonymous function),(anonymous function))][Variable(\"G\",[0,1],0,2,(anonymous function),(anonymous function),(anonymous function),(anonymous function),(anonymous function)),Variable(\"R\",[0,1],0,2,(anonymous function),(anonymous function),(anonymous function),(anonymous function),(anonymous function))]"
     ]
    },
    {
     "data": {
      "text/plain": [
       "0.2"
      ]
     },
     "execution_count": 509,
     "metadata": {},
     "output_type": "execute_result"
    }
   ],
   "source": [
    "restrict_factor(fac_R, V, 1).get_value([0, 0])"
   ]
  },
  {
   "cell_type": "code",
   "execution_count": 506,
   "metadata": {},
   "outputs": [
    {
     "name": "stdout",
     "output_type": "stream",
     "text": [
      "[Variable(\"G\",[0,1],0,0,(anonymous function),(anonymous function),(anonymous function),(anonymous function),(anonymous function)),Variable(\"R\",[0,1],0,0,(anonymous function),(anonymous function),(anonymous function),(anonymous function),(anonymous function))][Variable(\"R\",[0,1],0,0,(anonymous function),(anonymous function),(anonymous function),(anonymous function),(anonymous function))][Variable(\"R\",[0,1],0,2,(anonymous function),(anonymous function),(anonymous function),(anonymous function),(anonymous function))]"
     ]
    },
    {
     "data": {
      "text/plain": [
       "Factor(\"R_{R:}V = 1}\",[Variable(\"G\",[0,1],0,2,(anonymous function),(anonymous function),(anonymous function),(anonymous function),(anonymous function)),Variable(\"R\",[0,1],0,2,(anonymous function),(anonymous function),(anonymous function),(anonymous function),(anonymous function))],4,[0.2,0.8,0.5,0.5],(anonymous function),(anonymous function),(anonymous function),(anonymous function),(anonymous function),(anonymous function))"
      ]
     },
     "execution_count": 506,
     "metadata": {},
     "output_type": "execute_result"
    }
   ],
   "source": [
    "newF = restrict_factor(fac_R, V, 1)"
   ]
  },
  {
   "cell_type": "code",
   "execution_count": 507,
   "metadata": {},
   "outputs": [
    {
     "data": {
      "text/plain": [
       "0.5"
      ]
     },
     "execution_count": 507,
     "metadata": {},
     "output_type": "execute_result"
    }
   ],
   "source": [
    "fac_R.get_value_at_current_assignment()"
   ]
  },
  {
   "cell_type": "code",
   "execution_count": 503,
   "metadata": {},
   "outputs": [
    {
     "name": "stdout",
     "output_type": "stream",
     "text": [
      "[Variable(\"V\",[0,1],0,0,(anonymous function),(anonymous function),(anonymous function),(anonymous function),(anonymous function)),Variable(\"G\",[0,1],0,0,(anonymous function),(anonymous function),(anonymous function),(anonymous function),(anonymous function)),Variable(\"R\",[0,1],0,0,(anonymous function),(anonymous function),(anonymous function),(anonymous function),(anonymous function))]"
     ]
    },
    {
     "data": {
      "text/plain": [
       "0.7"
      ]
     },
     "execution_count": 503,
     "metadata": {},
     "output_type": "execute_result"
    }
   ],
   "source": [
    "fac_R.get_value([0, 1, 1])"
   ]
  },
  {
   "cell_type": "code",
   "execution_count": 510,
   "metadata": {},
   "outputs": [
    {
     "data": {
      "text/plain": [
       "Factor(\"R\",[Variable(\"V\",[0,1],0,2,(anonymous function),(anonymous function),(anonymous function),(anonymous function),(anonymous function)),Variable(\"G\",[0,1],0,2,(anonymous function),(anonymous function),(anonymous function),(anonymous function),(anonymous function)),Variable(\"R\",[0,1],0,2,(anonymous function),(anonymous function),(anonymous function),(anonymous function),(anonymous function))],8,[0.6,0.4,0.3,0.7,0.2,0.8,0.5,0.5],(anonymous function),(anonymous function),(anonymous function),(anonymous function),(anonymous function),(anonymous function))"
      ]
     },
     "execution_count": 510,
     "metadata": {},
     "output_type": "execute_result"
    }
   ],
   "source": [
    "fac_R"
   ]
  },
  {
   "cell_type": "code",
   "execution_count": 516,
   "metadata": {},
   "outputs": [
    {
     "name": "stdout",
     "output_type": "stream",
     "text": [
      "1\n",
      "2\n",
      "3\n",
      "4\n",
      "5\n",
      "6\n",
      "7\n",
      "8\n",
      "9\n"
     ]
    }
   ],
   "source": [
    "for i in range(1,size([1,2,32,4,5,4,5,45,4])[1])\n",
    "   println(i) \n",
    "end"
   ]
  },
  {
   "cell_type": "code",
   "execution_count": null,
   "metadata": {},
   "outputs": [],
   "source": []
  }
 ],
 "metadata": {
  "kernelspec": {
   "display_name": "Julia 0.4.5",
   "language": "julia",
   "name": "julia-0.4"
  },
  "language_info": {
   "file_extension": ".jl",
   "mimetype": "application/julia",
   "name": "julia",
   "version": "0.4.5"
  }
 },
 "nbformat": 4,
 "nbformat_minor": 2
}
