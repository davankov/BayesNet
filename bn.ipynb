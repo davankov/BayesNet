{
 "cells": [
  {
   "cell_type": "code",
   "execution_count": 51,
   "metadata": {},
   "outputs": [],
   "source": [
    "workspace()"
   ]
  },
  {
   "cell_type": "code",
   "execution_count": 52,
   "metadata": {},
   "outputs": [],
   "source": [
    "type Variable\n",
    "    name::AbstractString\n",
    "    domain::Array\n",
    "    evidence_index::Int32\n",
    "    assignment_index::Int32\n",
    "    \n",
    "    add_values::Function\n",
    "    value_index::Function\n",
    "    domain_size::Function\n",
    "    set_assignment::Function\n",
    "    get_assignment_index::Function\n",
    "    get_evidence::Function\n",
    "    \n",
    "    function Variable(name=\"\", domain=[])\n",
    "        this = new()\n",
    "        \n",
    "        this.name = name\n",
    "        this.domain = copy(domain)\n",
    "        \n",
    "        this.evidence_index = 1\n",
    "        this.assignment_index = 1\n",
    "        \n",
    "#         Проверено\n",
    "        this.add_values = function(values::Array)\n",
    "            this.domain = vcat(this.domain, value)\n",
    "        end\n",
    "        \n",
    "#       Проверено\n",
    "        this.value_index = function(value::Any)\n",
    "            return findfirst(this.domain, value)\n",
    "        end\n",
    "        \n",
    "#         Проверено\n",
    "        this.domain_size =  function()\n",
    "            return size(this.domain)[1]\n",
    "        end\n",
    "        \n",
    "#         Проверено\n",
    "        this.set_assignment = function(value)\n",
    "            this.assignment_index = this.value_index(value)\n",
    "        end\n",
    "        \n",
    "#         Проверно\n",
    "        this.get_assignment_index = function()\n",
    "           return this.assignment_index \n",
    "        end\n",
    "        \n",
    "        \n",
    "        this.get_evidence = function()\n",
    "            return this.domain[this.evidence_index]\n",
    "        end\n",
    "        return this\n",
    "    end\n",
    "    \n",
    "end"
   ]
  },
  {
   "cell_type": "code",
   "execution_count": 53,
   "metadata": {},
   "outputs": [],
   "source": [
    "type Factor\n",
    "    name::AbstractString\n",
    "    scope::Array\n",
    "    size::Int64\n",
    "    values::Array\n",
    "    \n",
    "    get_value::Function\n",
    "    get_scope::Function\n",
    "    add_scope::Function\n",
    "    add_values::Function\n",
    "    add_value_at_current_assignments::Function\n",
    "    get_value_at_current_assignments::Function\n",
    "    \n",
    "    function Factor(name=\"NEW\", scope=[])\n",
    "        this = new()\n",
    "        \n",
    "        this.name = name\n",
    "        this.scope = scope\n",
    "        \n",
    "        size = 1\n",
    "        for v in scope\n",
    "            size *= v.domain_size()\n",
    "        end\n",
    "        this.values = zeros(size)\n",
    "        \n",
    "        this.size = size\n",
    "        \n",
    "#         Проверено\n",
    "        this.get_scope = function ()\n",
    "            return this.scope\n",
    "        end\n",
    "        \n",
    "        \n",
    "        this.add_scope = function (added::Array)\n",
    "            this.scope = vcat(this.scope, added)\n",
    "        end\n",
    "        \n",
    "#         this.add = function (value::Node)\n",
    "#             this.value = value\n",
    "#         end\n",
    "        \n",
    "        \n",
    "#        fixed bag with indexes\n",
    "        this.add_values =  function(values::Array)\n",
    "            for val in values\n",
    "               idx = 0\n",
    "                for v in this.scope\n",
    "                    idx = idx * v.domain_size() + v.value_index(val[1]) -1 \n",
    "                    print(idx)\n",
    "                    val = val[2:end]\n",
    "                end\n",
    "                idx += 1\n",
    "                this.values[idx] = val[1]\n",
    "            end\n",
    "        end\n",
    "        \n",
    "        this.get_value = function(variable_values)\n",
    "           idx = 0\n",
    "            print(this.scope)\n",
    "            for v in this.scope\n",
    "                idx = idx * v.domain_size() + v.value_index(variable_values[1]) - 1\n",
    "                variable_values = variable_values[2:end]\n",
    "            end\n",
    "            idx += 1\n",
    "            return this.values[idx]\n",
    "        end\n",
    "        \n",
    "#       As I checked - it is work\n",
    "        this.add_value_at_current_assignments = function(number)\n",
    "            idx = 0\n",
    "            \n",
    "            for v in this.scope\n",
    "               idx = idx * v.domain_size() + v.get_assignment_index() -1 \n",
    "            end\n",
    "            idx += 1\n",
    "            this.values[idx] =  number\n",
    "        end\n",
    "        \n",
    "        \n",
    "        this.get_value_at_current_assignments = function()\n",
    "            \n",
    "            idx = 0\n",
    "            \n",
    "            for v in this.scope\n",
    "               idx = idx * v.domain_size() + v.get_assignment_index() - 1\n",
    "            end\n",
    "            idx += 1\n",
    "            return this.values[idx]\n",
    "        end\n",
    "        \n",
    "        \n",
    "        return this\n",
    "    end\n",
    "end"
   ]
  },
  {
   "cell_type": "code",
   "execution_count": null,
   "metadata": {},
   "outputs": [],
   "source": [
    "type BN\n",
    "    name::AbstractString\n",
    "    Variables::Array{Variables}\n",
    "end"
   ]
  },
  {
   "cell_type": "code",
   "execution_count": 54,
   "metadata": {},
   "outputs": [
    {
     "data": {
      "text/plain": [
       "restrict_factor (generic function with 1 method)"
      ]
     },
     "execution_count": 54,
     "metadata": {},
     "output_type": "execute_result"
    }
   ],
   "source": [
    "function restrict_factor(F, var, value)\n",
    "    newFactorName = F.name * \"_{R:}\" * var.name * \" = \" * string(value) * \"}\"\n",
    "    newFactorScope = copy(F.get_scope())\n",
    "    \n",
    "    var.set_assignment(value)\n",
    "    deleteat!(newFactorScope, findin(newFactorScope, [var]))\n",
    "    \n",
    "    newFactor = Factor(newFactorName, newFactorScope)\n",
    "    \n",
    "    rec_restrict_factor(F, newFactorScope, newFactor)\n",
    "    \n",
    "    return newFactor\n",
    "end"
   ]
  },
  {
   "cell_type": "code",
   "execution_count": 55,
   "metadata": {},
   "outputs": [
    {
     "data": {
      "text/plain": [
       "rec_restrict_factor (generic function with 1 method)"
      ]
     },
     "execution_count": 55,
     "metadata": {},
     "output_type": "execute_result"
    }
   ],
   "source": [
    "function rec_restrict_factor(oldFactor, newFactorScope, newFactor)\n",
    "    if isempty(newFactorScope)\n",
    "        old_assign = oldFactor.get_value_at_current_assignments()\n",
    "        newFactor.add_value_at_current_assignments(old_assign)\n",
    "    else\n",
    "        print(newFactorScope)\n",
    "        for var_val in newFactorScope[1].domain\n",
    "            newFactorScope[1].set_assignment(var_val)\n",
    "            rec_restrict_factor(oldFactor, newFactorScope[2:end], newFactor)\n",
    "        end\n",
    "    end\n",
    "end"
   ]
  },
  {
   "cell_type": "code",
   "execution_count": 56,
   "metadata": {},
   "outputs": [
    {
     "data": {
      "text/plain": [
       "step1 (generic function with 1 method)"
      ]
     },
     "execution_count": 56,
     "metadata": {},
     "output_type": "execute_result"
    }
   ],
   "source": [
    "function step1(NetFactors, EvidenceVars)\n",
    "    for i in range(1, size(NetFactors)[1])\n",
    "        for e_v in EvidenceVars\n",
    "            if e_v in NetFactors[i].get_scope()\n",
    "                newFactor = restrict_factor(NetFactors[i], e_v, e_v.get_evidence())\n",
    "                \n",
    "                NetFactors[i] = copy(newFactor)\n",
    "            end\n",
    "        end\n",
    "    end\n",
    "end"
   ]
  },
  {
   "cell_type": "code",
   "execution_count": 57,
   "metadata": {},
   "outputs": [
    {
     "data": {
      "text/plain": [
       "multiply_factors (generic function with 1 method)"
      ]
     },
     "execution_count": 57,
     "metadata": {},
     "output_type": "execute_result"
    }
   ],
   "source": [
    "function multiply_factors(Factors)\n",
    "   newFactorName = \"\"\n",
    "    for i in range(1, size(Factors)[1])\n",
    "        cur_factor = Factors[i]\n",
    "        if i == 1\n",
    "            newFactorName *= cur_factor.name\n",
    "            continue\n",
    "        else\n",
    "            newFactorName = newFactorName * \"_\" * cur_factor.name * \"_\"\n",
    "            continue\n",
    "        end\n",
    "        \n",
    "    end\n",
    "    \n",
    "    newFactorScope = Variable[]\n",
    "    \n",
    "    for factor in Factors\n",
    "        for var in factor.get_scope()\n",
    "            if var in newFactorScope\n",
    "                continue\n",
    "            end\n",
    "            push!(newFactorScope, var)\n",
    "        end\n",
    "    end\n",
    "    \n",
    "    newFactor = Factor(newFactorName, newFactorScope)\n",
    "    println(\"SOS\")\n",
    "    println(newFactorScope)\n",
    "    rec_multiply_factors(Factors, newFactorScope, newFactor, 1)\n",
    "    println(\"PISOS\")\n",
    "    \n",
    "    return newFactor\n",
    "    \n",
    "end"
   ]
  },
  {
   "cell_type": "code",
   "execution_count": 58,
   "metadata": {},
   "outputs": [
    {
     "data": {
      "text/plain": [
       "rec_multiply_factors (generic function with 2 methods)"
      ]
     },
     "execution_count": 58,
     "metadata": {},
     "output_type": "execute_result"
    }
   ],
   "source": [
    "function rec_multiply_factors(Factors, newFactorScope, newFactor, total=1)\n",
    "    println(\"PI\")\n",
    "    println(newFactorScope)\n",
    "    if !isempty(newFactorScope)\n",
    "        print(\"L\")\n",
    "        for factor in Factors\n",
    "            print(\"E\")\n",
    "            total *= factor.get_value_at_current_assignments()\n",
    "            print(\"W\")\n",
    "        end\n",
    "\n",
    "        newFactor.add_value_at_current_assignments(total)\n",
    "    else\n",
    "        for var_val in newFactorScope[1].domain()\n",
    "            newFactorScope[1].set_assignment(var_val)\n",
    "            print(\"POPA\")\n",
    "            rec_multiply_factors(Factors, newFactorScope[2:end], newFactor, total)\n",
    "        end\n",
    "    end\n",
    "end"
   ]
  },
  {
   "cell_type": "code",
   "execution_count": 59,
   "metadata": {},
   "outputs": [
    {
     "data": {
      "text/plain": [
       "remove_var (generic function with 1 method)"
      ]
     },
     "execution_count": 59,
     "metadata": {},
     "output_type": "execute_result"
    }
   ],
   "source": [
    "function remove_var(var, new_scope, scopes)\n",
    "    new_scopes = []\n",
    "    for s in scopes\n",
    "        if !(var in s)\n",
    "             push!(new_scopes, s)\n",
    "        end\n",
    "    end\n",
    "    \n",
    "    push!(new_scopes, new_scope)\n",
    "    \n",
    "    return new_scopes\n",
    "end"
   ]
  },
  {
   "cell_type": "code",
   "execution_count": 60,
   "metadata": {},
   "outputs": [
    {
     "data": {
      "text/plain": [
       "min_fill_var (generic function with 1 method)"
      ]
     },
     "execution_count": 60,
     "metadata": {},
     "output_type": "execute_result"
    }
   ],
   "source": [
    "function min_fill_var(scopes, Vars)\n",
    "    minv = Vars[1]\n",
    "    (minfill, min_new_scope) = compute_fill(scopes, Vars[0])\n",
    "    \n",
    "    for v in Vars[2:end]\n",
    "        (fill, new_scope) = compute_fill(scopes, v)\n",
    "        if fill < minfill\n",
    "            minv = v\n",
    "            minfill = fill\n",
    "            \n",
    "            min_new_scope = new_scope\n",
    "        end\n",
    "    end\n",
    "    return (minv, min_new_scope)\n",
    "\n",
    "end"
   ]
  },
  {
   "cell_type": "code",
   "execution_count": 61,
   "metadata": {},
   "outputs": [
    {
     "data": {
      "text/plain": [
       "compute_fill (generic function with 1 method)"
      ]
     },
     "execution_count": 61,
     "metadata": {},
     "output_type": "execute_result"
    }
   ],
   "source": [
    "function compute_fill(scopes, var)\n",
    "    union = []\n",
    "    for s in scopes\n",
    "        if var in s\n",
    "            for v in s\n",
    "                if !(v in union)\n",
    "                   push!(union, v) \n",
    "                end\n",
    "            end\n",
    "        end\n",
    "    end\n",
    "    if var in union\n",
    "        deleteat!(union, findin(union, var))\n",
    "    end\n",
    "    \n",
    "    return (size(union)[1], union)\n",
    "end"
   ]
  },
  {
   "cell_type": "code",
   "execution_count": 62,
   "metadata": {},
   "outputs": [
    {
     "data": {
      "text/plain": [
       "min_fill_ordering (generic function with 1 method)"
      ]
     },
     "execution_count": 62,
     "metadata": {},
     "output_type": "execute_result"
    }
   ],
   "source": [
    "function min_fill_ordering(Factors, QueryVar)\n",
    "    scopes = []\n",
    "    for f in Factors\n",
    "       push!(scopes, f.get_scope())\n",
    "    end\n",
    "    \n",
    "    Vars = []\n",
    "    \n",
    "    for s in scopes\n",
    "        for v in s\n",
    "            if !(v in Vars) && (v != QueryVar)\n",
    "                push!(Vars, v)\n",
    "            end\n",
    "        end\n",
    "    end\n",
    "    \n",
    "    ordering = []\n",
    "    \n",
    "    while !empty(Vars)\n",
    "        (var, new_scope) = min_fill_var(scopes, Vars)\n",
    "        push!(ordering, var)\n",
    "        \n",
    "        if var in Vars\n",
    "            deleteat!(Vars, findin(Vars, v))\n",
    "        end\n",
    "        \n",
    "        scopes = remove_var(var, new_scope, scopes)\n",
    "    end\n",
    "end"
   ]
  },
  {
   "cell_type": "code",
   "execution_count": 63,
   "metadata": {},
   "outputs": [
    {
     "data": {
      "text/plain": [
       "sum_out_variable (generic function with 1 method)"
      ]
     },
     "execution_count": 63,
     "metadata": {},
     "output_type": "execute_result"
    }
   ],
   "source": [
    "function sum_out_variable(f, var)\n",
    "    newFactorName = f.name + \"_{S: \" + var.name + \"}\"\n",
    "    newFactorScope = f.get_scope()\n",
    "    \n",
    "    deleteat!(newFactorScope, findin(newFactorScope, var))\n",
    "    \n",
    "    newFactor = Factor(newFactor, newFactorScope)\n",
    "    \n",
    "    rec_sumout_vars(newFactor, f, newFactorScope, var)\n",
    "    \n",
    "    return newFactor\n",
    "end"
   ]
  },
  {
   "cell_type": "code",
   "execution_count": 65,
   "metadata": {},
   "outputs": [
    {
     "data": {
      "text/plain": [
       "rec_sumout_variable (generic function with 2 methods)"
      ]
     },
     "execution_count": 65,
     "metadata": {},
     "output_type": "execute_result"
    }
   ],
   "source": [
    "function rec_sumout_variable(newFactor, f, newFactorScope, variable, summ=0)\n",
    "   if !(size(newFactorScope)[1])\n",
    "        for val in variable.domain()\n",
    "            variable.set_assignment(val)\n",
    "            curr = f.get_value_at_current_assignments\n",
    "            summ += curr\n",
    "        end\n",
    "        \n",
    "        newFactor.add_value_at_current_assignments(summ)\n",
    "        \n",
    "    else\n",
    "        for var_val in newFactorScope[1].domain()\n",
    "            newFactorScope[1].set_assignment(var_val)\n",
    "            rec_sumout_variable(newFactor, f, newFactorScope[2:end], variable)\n",
    "        end\n",
    "    end\n",
    "end"
   ]
  },
  {
   "cell_type": "code",
   "execution_count": 47,
   "metadata": {},
   "outputs": [
    {
     "data": {
      "text/plain": [
       "3"
      ]
     },
     "execution_count": 47,
     "metadata": {},
     "output_type": "execute_result"
    }
   ],
   "source": [
    "e = [1, 2, 3]\n",
    "size(e)[1]"
   ]
  },
  {
   "cell_type": "code",
   "execution_count": null,
   "metadata": {},
   "outputs": [],
   "source": []
  },
  {
   "cell_type": "code",
   "execution_count": 40,
   "metadata": {},
   "outputs": [
    {
     "data": {
      "text/plain": [
       "2-element Array{Int64,1}:\n",
       " 1\n",
       " 2"
      ]
     },
     "execution_count": 40,
     "metadata": {},
     "output_type": "execute_result"
    }
   ],
   "source": [
    "deleteat!(e, findin(e, 3))"
   ]
  },
  {
   "cell_type": "code",
   "execution_count": 66,
   "metadata": {},
   "outputs": [
    {
     "data": {
      "text/plain": [
       "step2 (generic function with 1 method)"
      ]
     },
     "execution_count": 66,
     "metadata": {},
     "output_type": "execute_result"
    }
   ],
   "source": [
    "function step2(NetFactors, QueryVar)\n",
    "   for v in min_fill_ordering(NetFactors, QueryVar)\n",
    "        f_v = []\n",
    "        for factor in NetFactors\n",
    "            if v in factor.get_scope()\n",
    "               push!(f_v, factor) \n",
    "            end\n",
    "        end\n",
    "        \n",
    "        prod_f = multiply_factors(f_v)\n",
    "        \n",
    "        g_j = sum_out_variable(prod_f, v)\n",
    "        \n",
    "        for factor in f_v\n",
    "            deleteat!(NetFactors, findin(NetFactors, factor))\n",
    "        end\n",
    "        \n",
    "        push!(NetFactors, g_j)\n",
    "    end\n",
    "end"
   ]
  },
  {
   "cell_type": "code",
   "execution_count": 70,
   "metadata": {},
   "outputs": [
    {
     "data": {
      "text/plain": [
       "step3 (generic function with 1 method)"
      ]
     },
     "execution_count": 70,
     "metadata": {},
     "output_type": "execute_result"
    }
   ],
   "source": [
    "function step3(NetFactors)\n",
    "    remaining_factors_w_Q = multiply_factors(NetFactors)\n",
    "    \n",
    "    normalization_factor = 0\n",
    "    \n",
    "    for i in remaining_factors_w_Q.values\n",
    "        normalization_factor += i\n",
    "    end\n",
    "    \n",
    "    if !(normalization_factor)\n",
    "        error(\"ZeroDivision\")\n",
    "    end\n",
    "    \n",
    "    list_of_pos = []\n",
    "    for i in remaining_factors_w_Q.values\n",
    "        push!(list_of_pos, i/normalization_factor)\n",
    "    end\n",
    "    \n",
    "    return list_of_pos\n",
    "end"
   ]
  },
  {
   "cell_type": "code",
   "execution_count": 72,
   "metadata": {},
   "outputs": [
    {
     "data": {
      "text/plain": [
       "VariableElimination (generic function with 1 method)"
      ]
     },
     "execution_count": 72,
     "metadata": {},
     "output_type": "execute_result"
    }
   ],
   "source": [
    "function VariableElimination(Net, QueryVar, EvidanceVars)\n",
    "    NetFactors = Net.factors()\n",
    "    \n",
    "    step1(NetFactors, EvidanceVars)\n",
    "    \n",
    "    step2(NetFactors, QueryVar)\n",
    "    \n",
    "    return step3(NetFactors)\n",
    "end"
   ]
  },
  {
   "cell_type": "code",
   "execution_count": 79,
   "metadata": {},
   "outputs": [
    {
     "data": {
      "text/plain": [
       "Array{Any,N}"
      ]
     },
     "execution_count": 79,
     "metadata": {},
     "output_type": "execute_result"
    }
   ],
   "source": [
    "ew = Array{Any}"
   ]
  },
  {
   "cell_type": "code",
   "execution_count": 80,
   "metadata": {},
   "outputs": [
    {
     "ename": "LoadError",
     "evalue": "MethodError: `push!` has no method matching push!(::Type{Array{Any,N}}, ::Variable)\u001b[0m\nClosest candidates are:\n  push!(::Any, ::Any, \u001b[1m\u001b[31m::Any\u001b[0m)\n  push!(::Any, ::Any, \u001b[1m\u001b[31m::Any\u001b[0m, \u001b[1m\u001b[31m::Any...\u001b[0m)\n  push!(\u001b[1m\u001b[31m::Array{Any,1}\u001b[0m, ::ANY)\n  ...\u001b[0m",
     "output_type": "error",
     "traceback": [
      "MethodError: `push!` has no method matching push!(::Type{Array{Any,N}}, ::Variable)\u001b[0m\nClosest candidates are:\n  push!(::Any, ::Any, \u001b[1m\u001b[31m::Any\u001b[0m)\n  push!(::Any, ::Any, \u001b[1m\u001b[31m::Any\u001b[0m, \u001b[1m\u001b[31m::Any...\u001b[0m)\n  push!(\u001b[1m\u001b[31m::Array{Any,1}\u001b[0m, ::ANY)\n  ...\u001b[0m",
      ""
     ]
    }
   ],
   "source": [
    "push!(ew, Variable())"
   ]
  },
  {
   "cell_type": "code",
   "execution_count": 77,
   "metadata": {},
   "outputs": [
    {
     "data": {
      "text/plain": [
       "Array{Variable,N}"
      ]
     },
     "execution_count": 77,
     "metadata": {},
     "output_type": "execute_result"
    }
   ],
   "source": [
    "ew"
   ]
  },
  {
   "cell_type": "code",
   "execution_count": 87,
   "metadata": {},
   "outputs": [
    {
     "ename": "LoadError",
     "evalue": "MethodError: `/` has no method matching /(::Float64, ::Char)\u001b[0m\nClosest candidates are:\n  /(::Float64, \u001b[1m\u001b[31m::Float64\u001b[0m)\n  /(::Real, \u001b[1m\u001b[31m::Complex{T<:Real}\u001b[0m)\n  /(::Union{Float16,Float32,Float64}, \u001b[1m\u001b[31m::BigFloat\u001b[0m)\n  ...\u001b[0m",
     "output_type": "error",
     "traceback": [
      "MethodError: `/` has no method matching /(::Float64, ::Char)\u001b[0m\nClosest candidates are:\n  /(::Float64, \u001b[1m\u001b[31m::Float64\u001b[0m)\n  /(::Real, \u001b[1m\u001b[31m::Complex{T<:Real}\u001b[0m)\n  /(::Union{Float16,Float32,Float64}, \u001b[1m\u001b[31m::BigFloat\u001b[0m)\n  ...\u001b[0m",
      ""
     ]
    }
   ],
   "source": []
  },
  {
   "cell_type": "code",
   "execution_count": null,
   "metadata": {},
   "outputs": [],
   "source": []
  }
 ],
 "metadata": {
  "kernelspec": {
   "display_name": "Julia 0.4.5",
   "language": "julia",
   "name": "julia-0.4"
  },
  "language_info": {
   "file_extension": ".jl",
   "mimetype": "application/julia",
   "name": "julia",
   "version": "0.4.5"
  }
 },
 "nbformat": 4,
 "nbformat_minor": 2
}
