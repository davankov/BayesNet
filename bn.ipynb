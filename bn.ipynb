{
 "cells": [
  {
   "cell_type": "code",
   "execution_count": 170,
   "metadata": {
    "collapsed": true
   },
   "outputs": [],
   "source": [
    "workspace()"
   ]
  },
  {
   "cell_type": "code",
   "execution_count": 171,
   "metadata": {
    "collapsed": true
   },
   "outputs": [],
   "source": [
    "type Variable\n",
    "    name::AbstractString\n",
    "    domain::Array\n",
    "    evidence_index::Int32\n",
    "    assignment_index::Int32\n",
    "    \n",
    "    add_values::Function\n",
    "    value_index::Function\n",
    "    domain_size::Function\n",
    "    set_assignment::Function\n",
    "    get_assignment_index::Function\n",
    "    get_evidence::Function\n",
    "    \n",
    "    function Variable(name=\"\", domain=[])\n",
    "        this = new()\n",
    "        \n",
    "        this.name = name\n",
    "        this.domain = copy(domain)\n",
    "        \n",
    "        this.evidence_index = 1\n",
    "        this.assignment_index = 1\n",
    "        \n",
    "#         Проверено\n",
    "        this.add_values = function(values::Array)\n",
    "            this.domain = vcat(this.domain, value)\n",
    "        end\n",
    "        \n",
    "#       Проверено\n",
    "        this.value_index = function(value::Any)\n",
    "            return findfirst(this.domain, value)\n",
    "        end\n",
    "        \n",
    "#         Проверено\n",
    "        this.domain_size =  function()\n",
    "            return size(this.domain)[1]\n",
    "        end\n",
    "        \n",
    "#         Проверено\n",
    "        this.set_assignment = function(value)\n",
    "            this.assignment_index = this.value_index(value)\n",
    "        end\n",
    "        \n",
    "#         Проверно\n",
    "        this.get_assignment_index = function()\n",
    "           return this.assignment_index \n",
    "        end\n",
    "        \n",
    "        \n",
    "        this.get_evidence = function()\n",
    "            return this.domain[this.evidence_index]\n",
    "        end\n",
    "        return this\n",
    "    end\n",
    "    \n",
    "end"
   ]
  },
  {
   "cell_type": "code",
   "execution_count": 172,
   "metadata": {
    "collapsed": true
   },
   "outputs": [],
   "source": [
    "type Factor\n",
    "    name::AbstractString\n",
    "    scope::Array\n",
    "    size::Int64\n",
    "    values::Array\n",
    "    \n",
    "    get_value::Function\n",
    "    get_scope::Function\n",
    "    add_scope::Function\n",
    "    add_values::Function\n",
    "    add_value_at_current_assignment::Function\n",
    "    get_value_at_current_assignment::Function\n",
    "    \n",
    "    function Factor(name=\"NEW\", scope=[])\n",
    "        this = new()\n",
    "        \n",
    "        this.name = name\n",
    "        this.scope = scope\n",
    "        \n",
    "        size = 1\n",
    "        for v in scope\n",
    "            size *= v.domain_size()\n",
    "        end\n",
    "        this.values = zeros(size)\n",
    "        \n",
    "        this.size = size\n",
    "        \n",
    "#         Проверено\n",
    "        this.get_scope = function ()\n",
    "            return this.scope\n",
    "        end\n",
    "        \n",
    "        \n",
    "        this.add_scope = function (added::Array)\n",
    "            this.scope = vcat(this.scope, added)\n",
    "        end\n",
    "        \n",
    "#         this.add = function (value::Node)\n",
    "#             this.value = value\n",
    "#         end\n",
    "        \n",
    "        \n",
    "#        fixed bag with indexes\n",
    "        this.add_values =  function(values::Array)\n",
    "            for val in values\n",
    "               idx = 0\n",
    "                for v in this.scope\n",
    "                    idx = idx * v.domain_size() + v.value_index(val[1]) -1 \n",
    "                    print(idx)\n",
    "                    val = val[2:end]\n",
    "                end\n",
    "                idx += 1\n",
    "                this.values[idx] = val[1]\n",
    "            end\n",
    "        end\n",
    "        \n",
    "        this.get_value = function(variable_values)\n",
    "           idx = 0\n",
    "            print(this.scope)\n",
    "            for v in this.scope\n",
    "                idx = idx * v.domain_size() + v.value_index(variable_values[1]) - 1\n",
    "                variable_values = variable_values[2:end]\n",
    "            end\n",
    "            idx += 1\n",
    "            return this.values[idx]\n",
    "        end\n",
    "        \n",
    "#       As I checked - it is work\n",
    "        this.add_value_at_current_assignment = function(number)\n",
    "            idx = 0\n",
    "            \n",
    "            for v in this.scope\n",
    "               idx = idx * v.domain_size() + v.get_assignment_index() -1 \n",
    "            end\n",
    "            idx += 1\n",
    "            this.values[idx] =  number\n",
    "        end\n",
    "        \n",
    "        \n",
    "        this.get_value_at_current_assignment = function()\n",
    "            \n",
    "            idx = 0\n",
    "            \n",
    "            for v in this.scope\n",
    "               idx = idx * v.domain_size() + v.get_assignment_index() - 1\n",
    "            end\n",
    "            idx += 1\n",
    "            return this.values[idx]\n",
    "        end\n",
    "        \n",
    "        \n",
    "        return this\n",
    "    end\n",
    "end"
   ]
  },
  {
   "cell_type": "code",
   "execution_count": 145,
   "metadata": {
    "collapsed": false
   },
   "outputs": [
    {
     "data": {
      "text/plain": [
       "restrict_factor (generic function with 1 method)"
      ]
     },
     "execution_count": 145,
     "metadata": {},
     "output_type": "execute_result"
    }
   ],
   "source": [
    "function restrict_factor(F, var, value)\n",
    "    newFactorName = F.name * \"_{R:}\" * var.name * \" = \" * string(value) * \"}\"\n",
    "    newFactorScope = copy(F.get_scope())\n",
    "    \n",
    "    var.set_assignment(value)\n",
    "    deleteat!(newFactorScope, findin(newFactorScope, [var]))\n",
    "    \n",
    "    newFactor = Factor(newFactorName, newFactorScope)\n",
    "    \n",
    "    rec_restrict_factor(F, newFactorScope, newFactor)\n",
    "    \n",
    "    return newFactor\n",
    "end"
   ]
  },
  {
   "cell_type": "code",
   "execution_count": 173,
   "metadata": {
    "collapsed": false
   },
   "outputs": [
    {
     "data": {
      "text/plain": [
       "rec_restrict_factor (generic function with 1 method)"
      ]
     },
     "execution_count": 173,
     "metadata": {},
     "output_type": "execute_result"
    }
   ],
   "source": [
    "function rec_restrict_factor(oldFactor, newFactorScope, newFactor)\n",
    "    if isempty(newFactorScope)\n",
    "        old_assign = oldFactor.get_value_at_current_assignment()\n",
    "        newFactor.add_value_at_current_assignment(old_assign)\n",
    "    else\n",
    "        print(newFactorScope)\n",
    "        for var_val in newFactorScope[1].domain\n",
    "            newFactorScope[1].set_assignment(var_val)\n",
    "            rec_restrict_factor(oldFactor, newFactorScope[2:end], newFactor)\n",
    "        end\n",
    "    end\n",
    "end"
   ]
  },
  {
   "cell_type": "code",
   "execution_count": 174,
   "metadata": {
    "collapsed": false
   },
   "outputs": [
    {
     "data": {
      "text/plain": [
       "step1 (generic function with 1 method)"
      ]
     },
     "execution_count": 174,
     "metadata": {},
     "output_type": "execute_result"
    }
   ],
   "source": [
    "function step1(NetFactors, EvidenceVars)\n",
    "    for i in range(1, size(NetFactors)[1])\n",
    "        for e_v in EvidenceVars\n",
    "            if e_v in NetFactors[i].get_scope()\n",
    "                newFactor = restrict_factor(NetFactors[i], e_v, e_v.get_evidence())\n",
    "                \n",
    "                NetFactors[i] = copy(newFactor)\n",
    "            end\n",
    "        end\n",
    "    end\n",
    "end"
   ]
  },
  {
   "cell_type": "code",
   "execution_count": 175,
   "metadata": {
    "collapsed": false
   },
   "outputs": [
    {
     "data": {
      "text/plain": [
       "multiply_factors (generic function with 1 method)"
      ]
     },
     "execution_count": 175,
     "metadata": {},
     "output_type": "execute_result"
    }
   ],
   "source": [
    "function multiply_factors(Factors)\n",
    "   newFactorName = \"\"\n",
    "    for i in range(1, size(Factors)[1])\n",
    "        cur_factor = Factors[i]\n",
    "        if i == 1\n",
    "            newFactorName *= cur_factor.name\n",
    "            continue\n",
    "        else\n",
    "            newFactorName = newFactorName * \"_\" * cur_factor.name * \"_\"\n",
    "            continue\n",
    "        end\n",
    "        \n",
    "    end\n",
    "    \n",
    "    newFactorScope = Variable[]\n",
    "    \n",
    "    for factor in Factors\n",
    "        for var in factor.get_scope()\n",
    "            if var in newFactorScope\n",
    "                continue\n",
    "            end\n",
    "            push!(newFactorScope, var)\n",
    "        end\n",
    "    end\n",
    "    \n",
    "    newFactor = Factor(newFactorName, newFactorScope)\n",
    "    println(\"SOS\")\n",
    "    println(newFactorScope)\n",
    "    rec_multiply_factors(Factors, newFactorScope, newFactor, 1)\n",
    "    println(\"PISOS\")\n",
    "    \n",
    "    return newFactor\n",
    "    \n",
    "end"
   ]
  },
  {
   "cell_type": "code",
   "execution_count": 176,
   "metadata": {
    "collapsed": false
   },
   "outputs": [
    {
     "data": {
      "text/plain": [
       "rec_multiply_factors (generic function with 2 methods)"
      ]
     },
     "execution_count": 176,
     "metadata": {},
     "output_type": "execute_result"
    }
   ],
   "source": [
    "function rec_multiply_factors(Factors, newFactorScope, newFactor, total=1)\n",
    "    println(\"PI\")\n",
    "    println(newFactorScope)\n",
    "    if !isempty(newFactorScope)\n",
    "        print(\"L\")\n",
    "        for factor in Factors\n",
    "            print(\"E\")\n",
    "            total *= factor.get_value_at_current_assignment()\n",
    "            print(\"W\")\n",
    "        end\n",
    "\n",
    "        newFactor.add_value_at_current_assignment(total)\n",
    "    else\n",
    "        for var_val in newFactorScope[1].domain()\n",
    "            newFactorScope[1].set_assignment(var_val)\n",
    "            print(\"POPA\")\n",
    "            rec_multiply_factors(Factors, newFactorScope[2:end], newFactor, total)\n",
    "        end\n",
    "    end\n",
    "end"
   ]
  },
  {
   "cell_type": "code",
   "execution_count": 100,
   "metadata": {
    "collapsed": false
   },
   "outputs": [
    {
     "data": {
      "text/plain": [
       "ee (generic function with 2 methods)"
      ]
     },
     "execution_count": 100,
     "metadata": {},
     "output_type": "execute_result"
    }
   ],
   "source": [
    "function ee(e, w=1)\n",
    "   print(w) \n",
    "end"
   ]
  },
  {
   "cell_type": "code",
   "execution_count": 181,
   "metadata": {
    "collapsed": false
   },
   "outputs": [
    {
     "data": {
      "text/plain": [
       "1"
      ]
     },
     "execution_count": 181,
     "metadata": {},
     "output_type": "execute_result"
    }
   ],
   "source": [
    "G.get_assignment_index()"
   ]
  },
  {
   "cell_type": "code",
   "execution_count": 182,
   "metadata": {
    "collapsed": false,
    "scrolled": true
   },
   "outputs": [
    {
     "name": "stdout",
     "output_type": "stream",
     "text": [
      "SOS\n",
      "[Variable(\"G\",[0,1],1,1,(anonymous function),(anonymous function),(anonymous function),(anonymous function),(anonymous function),(anonymous function)),Variable(\"V\",[0,1],1,1,(anonymous function),(anonymous function),(anonymous function),(anonymous function),(anonymous function),(anonymous function))]\n",
      "PI\n",
      "[Variable(\"G\",[0,1],1,1,(anonymous function),(anonymous function),(anonymous function),(anonymous function),(anonymous function),(anonymous function)),Variable(\"V\",[0,1],1,1,(anonymous function),(anonymous function),(anonymous function),(anonymous function),(anonymous function),(anonymous function))]\n",
      "LEWEWPISOS\n"
     ]
    },
    {
     "data": {
      "text/plain": [
       "Factor(\"G_V_\",[Variable(\"G\",[0,1],1,1,(anonymous function),(anonymous function),(anonymous function),(anonymous function),(anonymous function),(anonymous function)),Variable(\"V\",[0,1],1,1,(anonymous function),(anonymous function),(anonymous function),(anonymous function),(anonymous function),(anonymous function))],4,[0.0825,0.0,0.0,0.0],(anonymous function),(anonymous function),(anonymous function),(anonymous function),(anonymous function),(anonymous function))"
      ]
     },
     "execution_count": 182,
     "metadata": {},
     "output_type": "execute_result"
    }
   ],
   "source": [
    "multiply_factors([fac_G, fac_V])"
   ]
  },
  {
   "cell_type": "code",
   "execution_count": 183,
   "metadata": {
    "collapsed": false,
    "scrolled": true
   },
   "outputs": [
    {
     "data": {
      "text/plain": [
       "0.25"
      ]
     },
     "execution_count": 183,
     "metadata": {},
     "output_type": "execute_result"
    }
   ],
   "source": [
    "fac_G.get_value_at_current_assignment()"
   ]
  },
  {
   "cell_type": "code",
   "execution_count": 167,
   "metadata": {
    "collapsed": false
   },
   "outputs": [
    {
     "ename": "LoadError",
     "evalue": "wrong number of arguments",
     "output_type": "error",
     "traceback": [
      "wrong number of arguments",
      "",
      " in anonymous at ./In[144]:58"
     ]
    }
   ],
   "source": []
  },
  {
   "cell_type": "code",
   "execution_count": 177,
   "metadata": {
    "collapsed": false
   },
   "outputs": [
    {
     "data": {
      "text/plain": [
       "Variable(\"V\",[0,1],1,1,(anonymous function),(anonymous function),(anonymous function),(anonymous function),(anonymous function),(anonymous function))"
      ]
     },
     "execution_count": 177,
     "metadata": {},
     "output_type": "execute_result"
    }
   ],
   "source": [
    "V = Variable(\"V\", [0,1 ])"
   ]
  },
  {
   "cell_type": "code",
   "execution_count": 178,
   "metadata": {
    "collapsed": false
   },
   "outputs": [
    {
     "data": {
      "text/plain": [
       "Variable(\"S\",[0,1],1,1,(anonymous function),(anonymous function),(anonymous function),(anonymous function),(anonymous function),(anonymous function))"
      ]
     },
     "execution_count": 178,
     "metadata": {},
     "output_type": "execute_result"
    }
   ],
   "source": [
    "G = Variable(\"G\", [0,1])\n",
    "R = Variable(\"R\", [0,1])\n",
    "S = Variable(\"S\", [0,1])"
   ]
  },
  {
   "cell_type": "code",
   "execution_count": 179,
   "metadata": {
    "collapsed": false
   },
   "outputs": [
    {
     "data": {
      "text/plain": [
       "Factor(\"S\",[Variable(\"G\",[0,1],1,1,(anonymous function),(anonymous function),(anonymous function),(anonymous function),(anonymous function),(anonymous function)),Variable(\"S\",[0,1],1,1,(anonymous function),(anonymous function),(anonymous function),(anonymous function),(anonymous function),(anonymous function))],4,[0.0,0.0,0.0,0.0],(anonymous function),(anonymous function),(anonymous function),(anonymous function),(anonymous function),(anonymous function))"
      ]
     },
     "execution_count": 179,
     "metadata": {},
     "output_type": "execute_result"
    }
   ],
   "source": [
    "fac_V = Factor(\"V\", [V])\n",
    "fac_G = Factor(\"G\", [G])\n",
    "fac_R = Factor(\"R\", [V, G, R])\n",
    "fac_S = Factor(\"S\", [G, S])"
   ]
  },
  {
   "cell_type": "code",
   "execution_count": 180,
   "metadata": {
    "collapsed": false
   },
   "outputs": [
    {
     "name": "stdout",
     "output_type": "stream",
     "text": [
      "010100000101201312412513613700011213"
     ]
    }
   ],
   "source": [
    "fac_V.add_values([(0, 0.33), (1, 0.66)])\n",
    "fac_G.add_values([(0, 0.25), (1, 0.75)])\n",
    "fac_R.add_values([(0, 0, 0, 0.6), (0, 0, 1, 0.4),\n",
    "        (0, 1, 0, 0.3), (0, 1, 1, 0.7),\n",
    "        (1,  0, 0, 0.2), (1, 0, 1, 0.8),\n",
    "        (1, 1, 0, 0.5), (1, 1, 1, 0.5)])\n",
    "fac_S.add_values([(0, 0, 0.2), (0, 1, 0.8),\n",
    "        (1, 0, 0.5), (1, 1, 0.5)])"
   ]
  },
  {
   "cell_type": "code",
   "execution_count": 160,
   "metadata": {
    "collapsed": false,
    "scrolled": true
   },
   "outputs": [
    {
     "name": "stdout",
     "output_type": "stream",
     "text": [
      "SOS\n",
      "[Variable(\"V\",[0,1],0,0,(anonymous function),(anonymous function),(anonymous function),(anonymous function),(anonymous function),(anonymous function)),Variable(\"G\",[0,1],0,0,(anonymous function),(anonymous function),(anonymous function),(anonymous function),(anonymous function),(anonymous function))]\n",
      "PI\n",
      "[Variable(\"V\",[0,1],0,0,(anonymous function),(anonymous function),(anonymous function),(anonymous function),(anonymous function),(anonymous function)),Variable(\"G\",[0,1],0,0,(anonymous function),(anonymous function),(anonymous function),(anonymous function),(anonymous function),(anonymous function))]\n",
      "LE"
     ]
    },
    {
     "ename": "LoadError",
     "evalue": "BoundsError: attempt to access 2-element Array{Float64,1}:\n 0.33\n 0.66\n  at index [0]",
     "output_type": "error",
     "traceback": [
      "BoundsError: attempt to access 2-element Array{Float64,1}:\n 0.33\n 0.66\n  at index [0]",
      "",
      " in getindex at ./array.jl:282",
      " in anonymous at ./In[144]:88"
     ]
    }
   ],
   "source": []
  },
  {
   "cell_type": "code",
   "execution_count": 65,
   "metadata": {
    "collapsed": false
   },
   "outputs": [
    {
     "data": {
      "text/plain": [
       "0"
      ]
     },
     "execution_count": 65,
     "metadata": {},
     "output_type": "execute_result"
    }
   ],
   "source": [
    "V.assignment_index"
   ]
  },
  {
   "cell_type": "code",
   "execution_count": 66,
   "metadata": {
    "collapsed": false,
    "scrolled": false
   },
   "outputs": [
    {
     "name": "stdout",
     "output_type": "stream",
     "text": [
      "[Variable(\"G\",[0,1],0,0,(anonymous function),(anonymous function),(anonymous function),(anonymous function),(anonymous function),(anonymous function)),Variable(\"R\",[0,1],0,0,(anonymous function),(anonymous function),(anonymous function),(anonymous function),(anonymous function),(anonymous function))][Variable(\"R\",[0,1],0,0,(anonymous function),(anonymous function),(anonymous function),(anonymous function),(anonymous function),(anonymous function))][Variable(\"R\",[0,1],0,2,(anonymous function),(anonymous function),(anonymous function),(anonymous function),(anonymous function),(anonymous function))][Variable(\"G\",[0,1],0,2,(anonymous function),(anonymous function),(anonymous function),(anonymous function),(anonymous function),(anonymous function)),Variable(\"R\",[0,1],0,2,(anonymous function),(anonymous function),(anonymous function),(anonymous function),(anonymous function),(anonymous function))]"
     ]
    },
    {
     "data": {
      "text/plain": [
       "0.2"
      ]
     },
     "execution_count": 66,
     "metadata": {},
     "output_type": "execute_result"
    }
   ],
   "source": [
    "restrict_factor(fac_R, V, 1).get_value([0, 0])"
   ]
  },
  {
   "cell_type": "code",
   "execution_count": 67,
   "metadata": {
    "collapsed": false
   },
   "outputs": [
    {
     "name": "stdout",
     "output_type": "stream",
     "text": [
      "[Variable(\"G\",[0,1],0,2,(anonymous function),(anonymous function),(anonymous function),(anonymous function),(anonymous function),(anonymous function)),Variable(\"R\",[0,1],0,2,(anonymous function),(anonymous function),(anonymous function),(anonymous function),(anonymous function),(anonymous function))][Variable(\"R\",[0,1],0,2,(anonymous function),(anonymous function),(anonymous function),(anonymous function),(anonymous function),(anonymous function))][Variable(\"R\",[0,1],0,2,(anonymous function),(anonymous function),(anonymous function),(anonymous function),(anonymous function),(anonymous function))]"
     ]
    },
    {
     "data": {
      "text/plain": [
       "Factor(\"R_{R:}V = 1}\",[Variable(\"G\",[0,1],0,2,(anonymous function),(anonymous function),(anonymous function),(anonymous function),(anonymous function),(anonymous function)),Variable(\"R\",[0,1],0,2,(anonymous function),(anonymous function),(anonymous function),(anonymous function),(anonymous function),(anonymous function))],4,[0.2,0.8,0.5,0.5],(anonymous function),(anonymous function),(anonymous function),(anonymous function),(anonymous function),(anonymous function))"
      ]
     },
     "execution_count": 67,
     "metadata": {},
     "output_type": "execute_result"
    }
   ],
   "source": [
    "newF = restrict_factor(fac_R, V, 1)"
   ]
  },
  {
   "cell_type": "code",
   "execution_count": 68,
   "metadata": {
    "collapsed": false
   },
   "outputs": [
    {
     "data": {
      "text/plain": [
       "0.5"
      ]
     },
     "execution_count": 68,
     "metadata": {},
     "output_type": "execute_result"
    }
   ],
   "source": [
    "fac_R.get_value_at_current_assignment()"
   ]
  },
  {
   "cell_type": "code",
   "execution_count": 69,
   "metadata": {
    "collapsed": false
   },
   "outputs": [
    {
     "name": "stdout",
     "output_type": "stream",
     "text": [
      "[Variable(\"V\",[0,1],0,2,(anonymous function),(anonymous function),(anonymous function),(anonymous function),(anonymous function),(anonymous function)),Variable(\"G\",[0,1],0,2,(anonymous function),(anonymous function),(anonymous function),(anonymous function),(anonymous function),(anonymous function)),Variable(\"R\",[0,1],0,2,(anonymous function),(anonymous function),(anonymous function),(anonymous function),(anonymous function),(anonymous function))]"
     ]
    },
    {
     "data": {
      "text/plain": [
       "0.7"
      ]
     },
     "execution_count": 69,
     "metadata": {},
     "output_type": "execute_result"
    }
   ],
   "source": [
    "fac_R.get_value([0, 1, 1])"
   ]
  },
  {
   "cell_type": "code",
   "execution_count": 70,
   "metadata": {
    "collapsed": false,
    "scrolled": true
   },
   "outputs": [
    {
     "data": {
      "text/plain": [
       "Factor(\"R\",[Variable(\"V\",[0,1],0,2,(anonymous function),(anonymous function),(anonymous function),(anonymous function),(anonymous function),(anonymous function)),Variable(\"G\",[0,1],0,2,(anonymous function),(anonymous function),(anonymous function),(anonymous function),(anonymous function),(anonymous function)),Variable(\"R\",[0,1],0,2,(anonymous function),(anonymous function),(anonymous function),(anonymous function),(anonymous function),(anonymous function))],8,[0.6,0.4,0.3,0.7,0.2,0.8,0.5,0.5],(anonymous function),(anonymous function),(anonymous function),(anonymous function),(anonymous function),(anonymous function))"
      ]
     },
     "execution_count": 70,
     "metadata": {},
     "output_type": "execute_result"
    }
   ],
   "source": [
    "fac_R"
   ]
  },
  {
   "cell_type": "code",
   "execution_count": 72,
   "metadata": {
    "collapsed": false
   },
   "outputs": [
    {
     "name": "stdout",
     "output_type": "stream",
     "text": [
      "1\n",
      "2\n",
      "3\n",
      "4\n",
      "5\n",
      "6\n",
      "7\n",
      "8\n",
      "9\n"
     ]
    }
   ],
   "source": [
    "for i in range(1,size([1,2,32,4,5,4,5,45,4])[1])\n",
    "   println(i) \n",
    "end"
   ]
  },
  {
   "cell_type": "code",
   "execution_count": 18,
   "metadata": {
    "collapsed": false
   },
   "outputs": [
    {
     "data": {
      "text/plain": [
       "\"dsdsdsds\""
      ]
     },
     "execution_count": 18,
     "metadata": {},
     "output_type": "execute_result"
    }
   ],
   "source": [
    "eee =\"dsdsdsds\""
   ]
  },
  {
   "cell_type": "code",
   "execution_count": 19,
   "metadata": {
    "collapsed": false
   },
   "outputs": [
    {
     "data": {
      "text/plain": [
       "\"dsdsdsdsJKNK\""
      ]
     },
     "execution_count": 19,
     "metadata": {},
     "output_type": "execute_result"
    }
   ],
   "source": [
    "eee*=\"JKNK\""
   ]
  },
  {
   "cell_type": "code",
   "execution_count": 20,
   "metadata": {
    "collapsed": false
   },
   "outputs": [
    {
     "data": {
      "text/plain": [
       "\"dsdsdsdsJKNK\""
      ]
     },
     "execution_count": 20,
     "metadata": {},
     "output_type": "execute_result"
    }
   ],
   "source": [
    "eee"
   ]
  },
  {
   "cell_type": "code",
   "execution_count": 39,
   "metadata": {
    "collapsed": false
   },
   "outputs": [
    {
     "data": {
      "text/plain": [
       "0-element Array{Variable,1}"
      ]
     },
     "execution_count": 39,
     "metadata": {},
     "output_type": "execute_result"
    }
   ],
   "source": [
    "e = Variable[]"
   ]
  },
  {
   "cell_type": "code",
   "execution_count": 40,
   "metadata": {
    "collapsed": false
   },
   "outputs": [
    {
     "data": {
      "text/plain": [
       "1-element Array{Variable,1}:\n",
       " Variable(\"V\",[0,1],0,2,(anonymous function),(anonymous function),(anonymous function),(anonymous function),(anonymous function),(anonymous function))"
      ]
     },
     "execution_count": 40,
     "metadata": {},
     "output_type": "execute_result"
    }
   ],
   "source": [
    "push!(e, V)"
   ]
  },
  {
   "cell_type": "code",
   "execution_count": 46,
   "metadata": {
    "collapsed": false
   },
   "outputs": [
    {
     "name": "stdout",
     "output_type": "stream",
     "text": [
      "DD\n"
     ]
    }
   ],
   "source": [
    "if !(isempty([3]))\n",
    "    println(\"DD\")\n",
    "end"
   ]
  },
  {
   "cell_type": "code",
   "execution_count": null,
   "metadata": {
    "collapsed": true
   },
   "outputs": [],
   "source": []
  }
 ],
 "metadata": {
  "kernelspec": {
   "display_name": "Julia 0.4.5",
   "language": "julia",
   "name": "julia-0.4"
  },
  "language_info": {
   "file_extension": ".jl",
   "mimetype": "application/julia",
   "name": "julia",
   "version": "0.4.5"
  }
 },
 "nbformat": 4,
 "nbformat_minor": 2
}
