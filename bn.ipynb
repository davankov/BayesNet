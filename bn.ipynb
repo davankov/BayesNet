{
 "cells": [
  {
   "cell_type": "code",
   "execution_count": 1,
   "metadata": {
    "collapsed": true
   },
   "outputs": [],
   "source": [
    "workspace()"
   ]
  },
  {
   "cell_type": "code",
   "execution_count": 4,
   "metadata": {
    "collapsed": true
   },
   "outputs": [],
   "source": [
    "type Variable\n",
    "    name::AbstractString\n",
    "    domain::Array\n",
    "    evidence_index::Int32\n",
    "    assignment_index::Int32\n",
    "    \n",
    "    add_values::Function\n",
    "    value_index::Function\n",
    "    domain_size::Function\n",
    "    set_assignment::Function\n",
    "    get_assignment_index::Function\n",
    "    get_evidence::Function\n",
    "    \n",
    "    function Variable(name=\"\", domain=[])\n",
    "        \"\"\"Create a variable object, specifying its name (a\n",
    "        string). Optionally specify the initial domain.\"\"\"\n",
    "        \n",
    "        this = new()\n",
    "        \n",
    "        this.name = name\n",
    "        this.domain = copy(domain)\n",
    "        \n",
    "        this.evidence_index = 1\n",
    "        this.assignment_index = 1\n",
    "        \n",
    "#         Fixed\n",
    "        this.add_values = function(values::Array)\n",
    "            \"\"\"Add domain values to the domain. values should be a list.\"\"\"\n",
    "            this.domain = vcat(this.domain, value)\n",
    "        end\n",
    "        \n",
    "#       Fixed\n",
    "        this.value_index = function(value::Any)\n",
    "            \"\"\"Domain values need not be numbers, so return the index\n",
    "           in the domain list of a variable value\"\"\"\n",
    "            return findfirst(this.domain, value)\n",
    "        end\n",
    "        \n",
    "#         Fixed\n",
    "        this.domain_size =  function()\n",
    "            \"\"\"Return the size of the domain\"\"\"\n",
    "            return size(this.domain)[1]\n",
    "        end\n",
    "        \n",
    "#         Fixed\n",
    "        this.set_assignment = function(value)\n",
    "            \"\"\"Set this variable's assignment value for factor lookups\"\"\"\n",
    "            this.assignment_index = this.value_index(value)\n",
    "        end\n",
    "        \n",
    "#         Fixed\n",
    "#         These routines are special low-level routines used directly by the\n",
    "#         actor objects\n",
    "        this.get_assignment_index = function()\n",
    "           return this.assignment_index \n",
    "        end\n",
    "        \n",
    "        \n",
    "        this.get_evidence = function()\n",
    "            return this.domain[this.evidence_index]\n",
    "        end\n",
    "        return this\n",
    "    end\n",
    "    \n",
    "end"
   ]
  },
  {
   "cell_type": "code",
   "execution_count": 5,
   "metadata": {
    "collapsed": true
   },
   "outputs": [],
   "source": [
    "type Factor\n",
    "    name::AbstractString\n",
    "    scope::Array\n",
    "    size::Int64\n",
    "    values::Array\n",
    "    \n",
    "    get_value::Function\n",
    "    get_scope::Function\n",
    "    add_scope::Function\n",
    "    add_values::Function\n",
    "    add_value_at_current_assignments::Function\n",
    "    get_value_at_current_assignments::Function\n",
    "    \n",
    "    function Factor(name=\"NEW\", scope=[])\n",
    "        \"\"\"create a Factor object, specify the Factor name (a string)\n",
    "        and its scope (an ORDERED list of variable objects).\"\"\"\n",
    "        \n",
    "        this = new()\n",
    "        \n",
    "        this.name = name\n",
    "        this.scope = scope\n",
    "        \n",
    "        size = 1\n",
    "        for v in scope\n",
    "            size *= v.domain_size()\n",
    "        end\n",
    "        this.values = zeros(size)\n",
    "        \n",
    "        this.size = size\n",
    "        \n",
    "#         Проверено\n",
    "        this.get_scope = function ()\n",
    "            \"\"\"returns copy of scope...you can modify this copy without affecting\n",
    "           the factor object\"\"\"\n",
    "            return this.scope\n",
    "        end\n",
    "        \n",
    "        \n",
    "        this.add_scope = function (added::Array)\n",
    "            this.scope = vcat(this.scope, added)\n",
    "        end\n",
    "        \n",
    "#         this.add = function (value::Node)\n",
    "#             this.value = value\n",
    "#         end\n",
    "        \n",
    "        \n",
    "#        fixed bag with indexes\n",
    "        this.add_values =  function(values::Array)\n",
    "            \"\"\"This routine can be used to initialize the factor. We pass\n",
    "        it a list of lists. Each sublist is a ORDERED sequence of\n",
    "        values, one for each variable in self.scope followed by a\n",
    "        number that is the factor's value when its variables are\n",
    "        assigned these values. For example, if self.scope = [A, B, C],\n",
    "        and A.domain() = [1,2,3], B.domain() = ['a', 'b'], and\n",
    "        C.domain() = ['heavy', 'light'], then we could pass add_values the\n",
    "        following list of lists\n",
    "        [[1, 'a', 'heavy', 0.25], [1, 'a', 'light', 1.90],\n",
    "         [1, 'b', 'heavy', 0.50], [1, 'b', 'light', 0.80],\n",
    "         [2, 'a', 'heavy', 0.75], [2, 'a', 'light', 0.45],\n",
    "         [2, 'b', 'heavy', 0.99], [2, 'b', 'light', 2.25],\n",
    "         [3, 'a', 'heavy', 0.90], [3, 'a', 'light', 0.111],\n",
    "         [3, 'b', 'heavy', 0.01], [3, 'b', 'light', 0.1]]\n",
    "         This list initializes the factor so that, e.g., its value on\n",
    "         (A=2,B=b,C='light) is 2.25\"\"\"\n",
    "            \n",
    "            for val in values\n",
    "               idx = 0\n",
    "                for v in this.scope\n",
    "                    idx = idx * v.domain_size() + v.value_index(val[1]) -1 \n",
    "                    print(idx)\n",
    "                    val = val[2:end]\n",
    "                end\n",
    "                idx += 1\n",
    "                this.values[idx] = val[1]\n",
    "            end\n",
    "        end\n",
    "        \n",
    "        this.get_value = function(variable_values)\n",
    "            \"\"\"This function is used to retrieve a value from the\n",
    "        factor. We pass it an ordered list of values, one for every\n",
    "        variable in self.scope. It then returns the factor's value on\n",
    "        that set of assignments.  For example, if self.scope = [A, B,\n",
    "        C], and A.domain() = [1,2,3], B.domain() = ['a', 'b'], and\n",
    "        C.domain() = ['heavy', 'light'], and we invoke this function\n",
    "        on the list [1, 'b', 'heavy'] we would get a return value\n",
    "        equal to the value of this factor on the assignment (A=1,\n",
    "        B='b', C='light')\"\"\"\n",
    "            idx = 0\n",
    "            for v in this.scope\n",
    "                idx = idx * v.domain_size() + v.value_index(variable_values[1]) - 1\n",
    "                variable_values = variable_values[2:end]\n",
    "            end\n",
    "            idx += 1\n",
    "            return this.values[idx]\n",
    "        end\n",
    "        \n",
    "#       As I checked - it is work\n",
    "        this.add_value_at_current_assignments = function(number)\n",
    "            \"\"\"This function allows adding values to the factor in a way\n",
    "        that will often be more convenient. We pass it only a single\n",
    "        number. It then looks at the assigned values of the variables\n",
    "        in its scope and initializes the factor to have value equal to\n",
    "        number on the current assignment of its variables. Hence, to\n",
    "        use this function one first must set the current values of the\n",
    "        variables in its scope.\n",
    "        For example, if self.scope = [A, B, C],\n",
    "        and A.domain() = [1,2,3], B.domain() = ['a', 'b'], and\n",
    "        C.domain() = ['heavy', 'light'], and we first set an assignment for A, B\n",
    "        and C:\n",
    "        A.set_assignment(1)\n",
    "        B.set_assignment('a')\n",
    "        C.set_assignment('heavy')\n",
    "        then we call\n",
    "        add_value_at_current_assignment(0.33)\n",
    "         with the value 0.33, we would have initialized this factor to have\n",
    "        the value 0.33 on the assigments (A=1, B='1', C='heavy')\n",
    "        This has the same effect as the call\n",
    "        add_values([1, 'a', 'heavy', 0.33])\n",
    "        One advantage of the current_assignment interface to factor values is that\n",
    "        we don't have to worry about the order of the variables in the factor's\n",
    "        scope. add_values on the other hand has to be given tuples of values where\n",
    "        the values must be given in the same order as the variables in the factor's\n",
    "        scope.\n",
    "        See recursive_print_values called by print_table to see an example of\n",
    "        where the current_assignment interface to the factor values comes in handy.\"\"\"\n",
    "            idx = 0\n",
    "            \n",
    "            for v in this.scope\n",
    "               idx = idx * v.domain_size() + v.get_assignment_index() -1 \n",
    "            end\n",
    "            idx += 1\n",
    "            this.values[idx] =  number\n",
    "        end\n",
    "        \n",
    "        \n",
    "        this.get_value_at_current_assignments = function()\n",
    "            \"\"\"This function is used to retrieve a value from the\n",
    "        factor. The value retrieved is the value of the factor when\n",
    "        evaluated at the current assignment to the variables in its\n",
    "        scope.\n",
    "        For example, if self.scope = [A, B, C], and A.domain() =\n",
    "        [1,2,3], B.domain() = ['a', 'b'], and C.domain() = ['heavy',\n",
    "        'light'], and we had previously invoked A.set_assignment(1),\n",
    "        B.set_assignment('a') and C.set_assignment('heavy'), then this\n",
    "        function would return the value of the factor on the\n",
    "        assigments (A=1, B='1', C='heavy')\"\"\"\n",
    "            \n",
    "            idx = 0\n",
    "            \n",
    "            for v in this.scope\n",
    "               idx = idx * v.domain_size() + v.get_assignment_index() - 1\n",
    "            end\n",
    "            idx += 1\n",
    "            return this.values[idx]\n",
    "        end\n",
    "        \n",
    "        \n",
    "        return this\n",
    "    end\n",
    "end"
   ]
  },
  {
   "cell_type": "code",
   "execution_count": null,
   "metadata": {
    "collapsed": true
   },
   "outputs": [],
   "source": [
    "type BN\n",
    "    name::AbstractString\n",
    "    Variables::Array{Variables}\n",
    "end"
   ]
  },
  {
   "cell_type": "code",
   "execution_count": 14,
   "metadata": {
    "collapsed": false
   },
   "outputs": [
    {
     "data": {
      "text/plain": [
       "restrict_factor (generic function with 1 method)"
      ]
     },
     "execution_count": 14,
     "metadata": {},
     "output_type": "execute_result"
    }
   ],
   "source": [
    "function restrict_factor(F, var, value)\n",
    "    \"\"\"F is a factor, var is a Variable, and value is a value from var.domain.\n",
    "    Return a new factor that is the restriction of f by this var = value.\n",
    "    Don't change f! If f has only one variable its restriction yields a\n",
    "    constant factor\"\"\"\n",
    "    \n",
    "    newFactorName = F.name * \"_{R:}\" * var.name * \" = \" * string(value) * \"}\"\n",
    "    newFactorScope = copy(F.get_scope())\n",
    "    \n",
    "    var.set_assignment(value)\n",
    "    deleteat!(newFactorScope, findin(newFactorScope, [var]))\n",
    "    \n",
    "    newFactor = Factor(newFactorName, newFactorScope)\n",
    "    \n",
    "    rec_restrict_factor(F, newFactorScope, newFactor)\n",
    "    \n",
    "    return newFactor\n",
    "end"
   ]
  },
  {
   "cell_type": "code",
   "execution_count": 15,
   "metadata": {
    "collapsed": false
   },
   "outputs": [
    {
     "data": {
      "text/plain": [
       "rec_restrict_factor (generic function with 1 method)"
      ]
     },
     "execution_count": 15,
     "metadata": {},
     "output_type": "execute_result"
    }
   ],
   "source": [
    "function rec_restrict_factor(oldFactor, newFactorScope, newFactor)\n",
    "    if isempty(newFactorScope)\n",
    "        old_assign = oldFactor.get_value_at_current_assignments()\n",
    "        newFactor.add_value_at_current_assignments(old_assign)\n",
    "    else\n",
    "        print(newFactorScope)\n",
    "        for var_val in newFactorScope[1].domain\n",
    "            newFactorScope[1].set_assignment(var_val)\n",
    "            rec_restrict_factor(oldFactor, newFactorScope[2:end], newFactor)\n",
    "        end\n",
    "    end\n",
    "end"
   ]
  },
  {
   "cell_type": "code",
   "execution_count": 56,
   "metadata": {
    "collapsed": false
   },
   "outputs": [
    {
     "data": {
      "text/plain": [
       "step1 (generic function with 1 method)"
      ]
     },
     "execution_count": 56,
     "metadata": {},
     "output_type": "execute_result"
    }
   ],
   "source": [
    "function step1(NetFactors, EvidenceVars)\n",
    "    for i in range(1, size(NetFactors)[1])\n",
    "        for e_v in EvidenceVars\n",
    "            if e_v in NetFactors[i].get_scope()\n",
    "                newFactor = restrict_factor(NetFactors[i], e_v, e_v.get_evidence())\n",
    "                \n",
    "                #replace each factor in NetFactors with it's restriction f_{E=e_v}\n",
    "                NetFactors[i] = copy(newFactor)\n",
    "            end\n",
    "        end\n",
    "    end\n",
    "end"
   ]
  },
  {
   "cell_type": "code",
   "execution_count": 31,
   "metadata": {
    "collapsed": false
   },
   "outputs": [
    {
     "data": {
      "text/plain": [
       "multiply_factors (generic function with 1 method)"
      ]
     },
     "execution_count": 31,
     "metadata": {},
     "output_type": "execute_result"
    }
   ],
   "source": [
    "function multiply_factors(Factors)\n",
    "    \"\"\"return a new factor that is the product of the factors in Factors\"\"\"\n",
    "    #Getting the new factor name\n",
    "    newFactorName = \"\"\n",
    "    for i in range(1, size(Factors)[1])\n",
    "        cur_factor = Factors[i]\n",
    "        if i == 1\n",
    "            newFactorName *= cur_factor.name\n",
    "            continue\n",
    "        else\n",
    "            newFactorName = newFactorName * \"_\" * cur_factor.name * \"_\"\n",
    "            continue\n",
    "        end\n",
    "        \n",
    "    end\n",
    "    \n",
    "    #Getting the new factor scope\n",
    "    newFactorScope = Variable[]\n",
    "    \n",
    "    for factor in Factors\n",
    "        for var in factor.get_scope()\n",
    "            if var in newFactorScope\n",
    "                continue\n",
    "            end\n",
    "            push!(newFactorScope, var)\n",
    "        end\n",
    "    end\n",
    "    \n",
    "    #Creating the new factor\n",
    "    newFactor = Factor(newFactorName, newFactorScope)\n",
    "    #Setting the current assignments in the newFactor\n",
    "    rec_multiply_factors(Factors, newFactorScope, newFactor, 1)\n",
    "    \n",
    "    return newFactor\n",
    "    \n",
    "end"
   ]
  },
  {
   "cell_type": "code",
   "execution_count": 32,
   "metadata": {
    "collapsed": false
   },
   "outputs": [
    {
     "data": {
      "text/plain": [
       "rec_multiply_factors (generic function with 2 methods)"
      ]
     },
     "execution_count": 32,
     "metadata": {},
     "output_type": "execute_result"
    }
   ],
   "source": [
    "function rec_multiply_factors(Factors, newFactorScope, newFactor, total=1)\n",
    "\n",
    "    println(newFactorScope)\n",
    "    if !isempty(newFactorScope)\n",
    "\n",
    "        for factor in Factors\n",
    "\n",
    "            total *= factor.get_value_at_current_assignments()\n",
    "\n",
    "        end\n",
    "\n",
    "        newFactor.add_value_at_current_assignments(total)\n",
    "    else\n",
    "        for var_val in newFactorScope[1].domain()\n",
    "            newFactorScope[1].set_assignment(var_val)\n",
    "\n",
    "            rec_multiply_factors(Factors, newFactorScope[2:end], newFactor, total)\n",
    "        end\n",
    "    end\n",
    "end"
   ]
  },
  {
   "cell_type": "code",
   "execution_count": 59,
   "metadata": {
    "collapsed": false
   },
   "outputs": [
    {
     "data": {
      "text/plain": [
       "remove_var (generic function with 1 method)"
      ]
     },
     "execution_count": 59,
     "metadata": {},
     "output_type": "execute_result"
    }
   ],
   "source": [
    "function remove_var(var, new_scope, scopes)\n",
    "    \"\"\"Return the new set of scopes that arise from eliminating var\n",
    "    from scopes\"\"\"\n",
    "    \n",
    "    new_scopes = []\n",
    "    for s in scopes\n",
    "        if !(var in s)\n",
    "             push!(new_scopes, s)\n",
    "        end\n",
    "    end\n",
    "    \n",
    "    push!(new_scopes, new_scope)\n",
    "    \n",
    "    return new_scopes\n",
    "end"
   ]
  },
  {
   "cell_type": "code",
   "execution_count": 60,
   "metadata": {
    "collapsed": false
   },
   "outputs": [
    {
     "data": {
      "text/plain": [
       "min_fill_var (generic function with 1 method)"
      ]
     },
     "execution_count": 60,
     "metadata": {},
     "output_type": "execute_result"
    }
   ],
   "source": [
    "function min_fill_var(scopes, Vars)\n",
    "    \"\"\"Given a set of scopes (lists of lists of variables) compute and\n",
    "    return the variable with minimum fill in. That the variable that\n",
    "    generates a factor of smallest scope when eliminated from the set\n",
    "    of scopes. Also return the new scope generated from eliminating\n",
    "    that variable.\"\"\"\n",
    "    minv = Vars[1]\n",
    "    (minfill, min_new_scope) = compute_fill(scopes, Vars[0])\n",
    "    \n",
    "    for v in Vars[2:end]\n",
    "        (fill, new_scope) = compute_fill(scopes, v)\n",
    "        if fill < minfill\n",
    "            minv = v\n",
    "            minfill = fill\n",
    "            \n",
    "            min_new_scope = new_scope\n",
    "        end\n",
    "    end\n",
    "    return (minv, min_new_scope)\n",
    "\n",
    "end"
   ]
  },
  {
   "cell_type": "code",
   "execution_count": 61,
   "metadata": {
    "collapsed": false
   },
   "outputs": [
    {
     "data": {
      "text/plain": [
       "compute_fill (generic function with 1 method)"
      ]
     },
     "execution_count": 61,
     "metadata": {},
     "output_type": "execute_result"
    }
   ],
   "source": [
    "function compute_fill(scopes, var)\n",
    "    \"\"\"'Return the fill in scope generated by eliminating var from\n",
    "    scopes along with the size of this new scope\"\"\"\n",
    "    union = []\n",
    "    for s in scopes\n",
    "        if var in s\n",
    "            for v in s\n",
    "                if !(v in union)\n",
    "                   push!(union, v) \n",
    "                end\n",
    "            end\n",
    "        end\n",
    "    end\n",
    "    if var in union\n",
    "        deleteat!(union, findin(union, var))\n",
    "    end\n",
    "    \n",
    "    return (size(union)[1], union)\n",
    "end"
   ]
  },
  {
   "cell_type": "code",
   "execution_count": 62,
   "metadata": {
    "collapsed": false
   },
   "outputs": [
    {
     "data": {
      "text/plain": [
       "min_fill_ordering (generic function with 1 method)"
      ]
     },
     "execution_count": 62,
     "metadata": {},
     "output_type": "execute_result"
    }
   ],
   "source": [
    "function min_fill_ordering(Factors, QueryVar)\n",
    "    \"\"\"Compute a min fill ordering given a list of factors. Return a list\n",
    "    of variables from the scopes of the factors in Factors. The QueryVar is\n",
    "    NOT part of the returned ordering\"\"\"\n",
    "    scopes = []\n",
    "    for f in Factors\n",
    "       push!(scopes, f.get_scope())\n",
    "    end\n",
    "    \n",
    "    Vars = []\n",
    "    \n",
    "    for s in scopes\n",
    "        for v in s\n",
    "            if !(v in Vars) && (v != QueryVar)\n",
    "                push!(Vars, v)\n",
    "            end\n",
    "        end\n",
    "    \n",
    "    ordering = []\n",
    "    \n",
    "    while !empty(Vars)\n",
    "        (var, new_scope) = min_fill_var(scopes, Vars)\n",
    "        push!(ordering, var)\n",
    "        \n",
    "        if var in Vars\n",
    "            deleteat!(Vars, findin(Vars, v))\n",
    "        end\n",
    "        \n",
    "        scopes = remove_var(var, new_scope, scopes)\n",
    "    end\n",
    "end"
   ]
  },
  {
   "cell_type": "code",
   "execution_count": 63,
   "metadata": {
    "collapsed": false
   },
   "outputs": [
    {
     "data": {
      "text/plain": [
       "sum_out_variable (generic function with 1 method)"
      ]
     },
     "execution_count": 63,
     "metadata": {},
     "output_type": "execute_result"
    }
   ],
   "source": [
    "function sum_out_variable(f, var)\n",
    "    \"\"\"return a new factor that is the product of the factors in Factors\n",
    "       followed by the suming out of Var\"\"\"\n",
    "    newFactorName = f.name + \"_{S: \" + var.name + \"}\"\n",
    "    newFactorScope = f.get_scope()\n",
    "    \n",
    "    deleteat!(newFactorScope, findin(newFactorScope, var))\n",
    "    \n",
    "    newFactor = Factor(newFactor, newFactorScope)\n",
    "    \n",
    "    rec_sumout_vars(newFactor, f, newFactorScope, var)\n",
    "    \n",
    "    return newFactor\n",
    "end"
   ]
  },
  {
   "cell_type": "code",
   "execution_count": 65,
   "metadata": {
    "collapsed": false
   },
   "outputs": [
    {
     "data": {
      "text/plain": [
       "rec_sumout_variable (generic function with 2 methods)"
      ]
     },
     "execution_count": 65,
     "metadata": {},
     "output_type": "execute_result"
    }
   ],
   "source": [
    "function rec_sumout_variable(newFactor, f, newFactorScope, variable, summ=0)\n",
    "   if !(size(newFactorScope)[1])\n",
    "        for val in variable.domain()\n",
    "            variable.set_assignment(val)\n",
    "            curr = f.get_value_at_current_assignments\n",
    "            summ += curr\n",
    "        end\n",
    "        \n",
    "        newFactor.add_value_at_current_assignments(summ)\n",
    "        \n",
    "    else\n",
    "        for var_val in newFactorScope[1].domain()\n",
    "            newFactorScope[1].set_assignment(var_val)\n",
    "            rec_sumout_variable(newFactor, f, newFactorScope[2:end], variable)\n",
    "        end\n",
    "    end\n",
    "end"
   ]
  },
  {
   "cell_type": "code",
   "execution_count": 47,
   "metadata": {
    "collapsed": false
   },
   "outputs": [
    {
     "data": {
      "text/plain": [
       "3"
      ]
     },
     "execution_count": 47,
     "metadata": {},
     "output_type": "execute_result"
    }
   ],
   "source": [
    "e = [1, 2, 3]\n",
    "size(e)[1]"
   ]
  },
  {
   "cell_type": "code",
   "execution_count": null,
   "metadata": {
    "collapsed": true
   },
   "outputs": [],
   "source": []
  },
  {
   "cell_type": "code",
   "execution_count": 40,
   "metadata": {
    "collapsed": false
   },
   "outputs": [
    {
     "data": {
      "text/plain": [
       "2-element Array{Int64,1}:\n",
       " 1\n",
       " 2"
      ]
     },
     "execution_count": 40,
     "metadata": {},
     "output_type": "execute_result"
    }
   ],
   "source": [
    "deleteat!(e, findin(e, 3))"
   ]
  },
  {
   "cell_type": "code",
   "execution_count": 66,
   "metadata": {
    "collapsed": false
   },
   "outputs": [
    {
     "data": {
      "text/plain": [
       "step2 (generic function with 1 method)"
      ]
     },
     "execution_count": 66,
     "metadata": {},
     "output_type": "execute_result"
    }
   ],
   "source": [
    "function step2(NetFactors, QueryVar)\n",
    "   for v in min_fill_ordering(NetFactors, QueryVar)\n",
    "#         STEP 2.A)\n",
    "# finding factors f_1, ..., f_k s.t. z_j in scope(f_i)\n",
    "        f_v = []\n",
    "        for factor in NetFactors\n",
    "            if v in factor.get_scope()\n",
    "               push!(f_v, factor) \n",
    "            end\n",
    "        end\n",
    "        #product of factors that include z_j\n",
    "        prod_f = multiply_factors(f_v)\n",
    "        \n",
    "         #sumout the product over z_j\n",
    "        g_j = sum_out_variable(prod_f, v)\n",
    "        \n",
    "         #STEP 2.B)\n",
    "    #remove the factors that mention z_j\n",
    "        for factor in f_v\n",
    "            deleteat!(NetFactors, findin(NetFactors, factor))\n",
    "        end\n",
    "        \n",
    "        #add new factor g_j\n",
    "        push!(NetFactors, g_j)\n",
    "    end\n",
    "end"
   ]
  },
  {
   "cell_type": "code",
   "execution_count": 70,
   "metadata": {
    "collapsed": false
   },
   "outputs": [
    {
     "data": {
      "text/plain": [
       "step3 (generic function with 1 method)"
      ]
     },
     "execution_count": 70,
     "metadata": {},
     "output_type": "execute_result"
    }
   ],
   "source": [
    "function step3(NetFactors)\n",
    "    #take product of factors with Q\n",
    "    remaining_factors_w_Q = multiply_factors(NetFactors)\n",
    "    \n",
    "    #get the normalization factor\n",
    "    normalization_factor = 0\n",
    "    \n",
    "    for i in remaining_factors_w_Q.values\n",
    "        normalization_factor += i\n",
    "    end\n",
    "    \n",
    "    #check if zero division will occur\n",
    "    if !(normalization_factor)\n",
    "        error(\"ZeroDivision\")\n",
    "    end\n",
    "    \n",
    "    #get list of posterior distribution\n",
    "    list_of_pos = []\n",
    "    for i in remaining_factors_w_Q.values\n",
    "        push!(list_of_pos, i/normalization_factor)\n",
    "    end\n",
    "    \n",
    "    return list_of_pos\n",
    "end"
   ]
  },
  {
   "cell_type": "code",
   "execution_count": 72,
   "metadata": {
    "collapsed": false
   },
   "outputs": [
    {
     "data": {
      "text/plain": [
       "VariableElimination (generic function with 1 method)"
      ]
     },
     "execution_count": 72,
     "metadata": {},
     "output_type": "execute_result"
    }
   ],
   "source": [
    "function VariableElimination(Net, QueryVar, EvidanceVars)\n",
    "    \"\"\"Input: Net---a BN object (a Bayes Net)\n",
    "           QueryVar---a Variable object (the variable whose distribution\n",
    "                      we want to compute)\n",
    "           EvidenceVars---a LIST of Variable objects. Each of these\n",
    "                          variables has had its evidence set to a particular\n",
    "                          value from its domain using set_evidence.\n",
    "   VE returns a distribution over the values of QueryVar, i.e., a list\n",
    "   of numbers one for every value in QueryVar's domain. These numbers\n",
    "   sum to one, and the i'th number is the probability that QueryVar is\n",
    "   equal to its i'th value given the setting of the evidence\n",
    "   variables. For example if QueryVar = A with Dom[A] = ['a', 'b',\n",
    "   'c'], EvidenceVars = [B, C], and we have previously called\n",
    "   B.set_evidence(1) and C.set_evidence('c'), then VE would return a\n",
    "   list of three numbers. E.g. [0.5, 0.24, 0.26]. These numbers would\n",
    "   mean that Pr(A='a'|B=1, C='c') = 0.5 Pr(A='a'|B=1, C='c') = 0.24\n",
    "   Pr(A='a'|B=1, C='c') = 0.26\"\"\"\n",
    "    NetFactors = Net.factors()\n",
    "    \n",
    "    step1(NetFactors, EvidanceVars)\n",
    "    \n",
    "    step2(NetFactors, QueryVar)\n",
    "    \n",
    "    return step3(NetFactors)\n",
    "end"
   ]
  },
  {
   "cell_type": "markdown",
   "metadata": {},
   "source": [
    "Example below"
   ]
  },
  {
   "cell_type": "code",
   "execution_count": 7,
   "metadata": {
    "collapsed": false
   },
   "outputs": [
    {
     "data": {
      "text/plain": [
       "Variable(\"S\",[0,1],1,1,(anonymous function),(anonymous function),(anonymous function),(anonymous function),(anonymous function),(anonymous function))"
      ]
     },
     "execution_count": 7,
     "metadata": {},
     "output_type": "execute_result"
    }
   ],
   "source": [
    "V = Variable(\"V\", [0,1 ])\n",
    "G = Variable(\"G\", [0,1])\n",
    "R = Variable(\"R\", [0,1])\n",
    "S = Variable(\"S\", [0,1])"
   ]
  },
  {
   "cell_type": "code",
   "execution_count": 8,
   "metadata": {
    "collapsed": false
   },
   "outputs": [
    {
     "data": {
      "text/plain": [
       "Factor(\"S\",[Variable(\"G\",[0,1],1,1,(anonymous function),(anonymous function),(anonymous function),(anonymous function),(anonymous function),(anonymous function)),Variable(\"S\",[0,1],1,1,(anonymous function),(anonymous function),(anonymous function),(anonymous function),(anonymous function),(anonymous function))],4,[0.0,0.0,0.0,0.0],(anonymous function),(anonymous function),(anonymous function),(anonymous function),(anonymous function),(anonymous function))"
      ]
     },
     "execution_count": 8,
     "metadata": {},
     "output_type": "execute_result"
    }
   ],
   "source": [
    "fac_V = Factor(\"V\", [V])\n",
    "fac_G = Factor(\"G\", [G])\n",
    "fac_R = Factor(\"R\", [V, G, R])\n",
    "fac_S = Factor(\"S\", [G, S])"
   ]
  },
  {
   "cell_type": "code",
   "execution_count": 9,
   "metadata": {
    "collapsed": false
   },
   "outputs": [
    {
     "name": "stdout",
     "output_type": "stream",
     "text": [
      "010100000101201312412513613700011213"
     ]
    }
   ],
   "source": [
    "fac_V.add_values([(0, 0.33), (1, 0.66)])\n",
    "fac_G.add_values([(0, 0.25), (1, 0.75)])\n",
    "fac_R.add_values([(0, 0, 0, 0.6), (0, 0, 1, 0.4),\n",
    "        (0, 1, 0, 0.3), (0, 1, 1, 0.7),\n",
    "        (1,  0, 0, 0.2), (1, 0, 1, 0.8),\n",
    "        (1, 1, 0, 0.5), (1, 1, 1, 0.5)])\n",
    "fac_S.add_values([(0, 0, 0.2), (0, 1, 0.8),\n",
    "        (1, 0, 0.5), (1, 1, 0.5)])"
   ]
  },
  {
   "cell_type": "code",
   "execution_count": 10,
   "metadata": {
    "collapsed": false,
    "scrolled": true
   },
   "outputs": [
    {
     "data": {
      "text/plain": [
       "1"
      ]
     },
     "execution_count": 10,
     "metadata": {},
     "output_type": "execute_result"
    }
   ],
   "source": [
    "V.assignment_index"
   ]
  },
  {
   "cell_type": "code",
   "execution_count": 45,
   "metadata": {
    "collapsed": false
   },
   "outputs": [
    {
     "data": {
      "text/plain": [
       "0.66"
      ]
     },
     "execution_count": 45,
     "metadata": {},
     "output_type": "execute_result"
    }
   ],
   "source": [
    "fac_V.get_value_at_current_assignments()"
   ]
  },
  {
   "cell_type": "code",
   "execution_count": 16,
   "metadata": {
    "collapsed": false,
    "scrolled": true
   },
   "outputs": [
    {
     "name": "stdout",
     "output_type": "stream",
     "text": [
      "[Variable(\"G\",[0,1],1,1,(anonymous function),(anonymous function),(anonymous function),(anonymous function),(anonymous function),(anonymous function)),Variable(\"R\",[0,1],1,1,(anonymous function),(anonymous function),(anonymous function),(anonymous function),(anonymous function),(anonymous function))][Variable(\"R\",[0,1],1,1,(anonymous function),(anonymous function),(anonymous function),(anonymous function),(anonymous function),(anonymous function))][Variable(\"R\",[0,1],1,2,(anonymous function),(anonymous function),(anonymous function),(anonymous function),(anonymous function),(anonymous function))]"
     ]
    },
    {
     "data": {
      "text/plain": [
       "Factor(\"R_{R:}V = 1}\",[Variable(\"G\",[0,1],1,2,(anonymous function),(anonymous function),(anonymous function),(anonymous function),(anonymous function),(anonymous function)),Variable(\"R\",[0,1],1,2,(anonymous function),(anonymous function),(anonymous function),(anonymous function),(anonymous function),(anonymous function))],4,[0.2,0.8,0.5,0.5],(anonymous function),(anonymous function),(anonymous function),(anonymous function),(anonymous function),(anonymous function))"
      ]
     },
     "execution_count": 16,
     "metadata": {},
     "output_type": "execute_result"
    }
   ],
   "source": [
    "newF = restrict_factor(fac_R, V, 1)"
   ]
  },
  {
   "cell_type": "code",
   "execution_count": 38,
   "metadata": {
    "collapsed": false
   },
   "outputs": [
    {
     "data": {
      "text/plain": [
       "(Factor(\"V\",[Variable(\"V\",[0,1],1,2,(anonymous function),(anonymous function),(anonymous function),(anonymous function),(anonymous function),(anonymous function))],2,[0.33,0.66],(anonymous function),(anonymous function),(anonymous function),(anonymous function),(anonymous function),(anonymous function)),Factor(\"G\",[Variable(\"G\",[0,1],1,2,(anonymous function),(anonymous function),(anonymous function),(anonymous function),(anonymous function),(anonymous function))],2,[0.25,0.75],(anonymous function),(anonymous function),(anonymous function),(anonymous function),(anonymous function),(anonymous function)))"
      ]
     },
     "execution_count": 38,
     "metadata": {},
     "output_type": "execute_result"
    }
   ],
   "source": [
    "fac_V, fac_G"
   ]
  },
  {
   "cell_type": "code",
   "execution_count": 39,
   "metadata": {
    "collapsed": false,
    "scrolled": true
   },
   "outputs": [
    {
     "name": "stdout",
     "output_type": "stream",
     "text": [
      "[Variable(\"G\",[0,1],1,2,(anonymous function),(anonymous function),(anonymous function),(anonymous function),(anonymous function),(anonymous function)),Variable(\"V\",[0,1],1,2,(anonymous function),(anonymous function),(anonymous function),(anonymous function),(anonymous function),(anonymous function))]\n"
     ]
    },
    {
     "data": {
      "text/plain": [
       "Factor(\"G_V_\",[Variable(\"G\",[0,1],1,2,(anonymous function),(anonymous function),(anonymous function),(anonymous function),(anonymous function),(anonymous function)),Variable(\"V\",[0,1],1,2,(anonymous function),(anonymous function),(anonymous function),(anonymous function),(anonymous function),(anonymous function))],4,[0.0,0.0,0.0,0.495],(anonymous function),(anonymous function),(anonymous function),(anonymous function),(anonymous function),(anonymous function))"
      ]
     },
     "execution_count": 39,
     "metadata": {},
     "output_type": "execute_result"
    }
   ],
   "source": [
    "mul_f = multiply_factors([fac_G, fac_V])"
   ]
  },
  {
   "cell_type": "code",
   "execution_count": 46,
   "metadata": {
    "collapsed": false
   },
   "outputs": [
    {
     "ename": "LoadError",
     "evalue": "wrong number of arguments",
     "output_type": "error",
     "traceback": [
      "wrong number of arguments",
      "",
      " in anonymous at ./In[5]:80"
     ]
    }
   ],
   "source": [
    "mul_f.get_value("
   ]
  },
  {
   "cell_type": "code",
   "execution_count": null,
   "metadata": {
    "collapsed": true
   },
   "outputs": [],
   "source": [
    "restrict_factor(fac_R, V, 1).get_value([0, 0])"
   ]
  }
 ],
 "metadata": {
  "kernelspec": {
   "display_name": "Julia 0.4.5",
   "language": "julia",
   "name": "julia-0.4"
  },
  "language_info": {
   "file_extension": ".jl",
   "mimetype": "application/julia",
   "name": "julia",
   "version": "0.4.5"
  }
 },
 "nbformat": 4,
 "nbformat_minor": 2
}
